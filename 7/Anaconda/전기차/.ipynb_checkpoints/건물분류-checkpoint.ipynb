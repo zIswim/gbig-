{
 "cells": [
  {
   "cell_type": "markdown",
   "metadata": {},
   "source": [
    "## 건물정보와 가점척도를 읽어 건물1, 건물2, ... 등으로 분리"
   ]
  },
  {
   "cell_type": "markdown",
   "metadata": {},
   "source": [
    "### 1. 읽어들일 파일명 지정 ==> 가지고 있는 파일명으로 수정필요"
   ]
  },
  {
   "cell_type": "code",
   "execution_count": null,
   "metadata": {},
   "outputs": [],
   "source": [
    "########### file_name 선언 ##################################\n",
    "건물셋 = '지자체_건물_전처리2.csv'\n",
    "가점척도 = '건물가점_전처리.csv' \n",
    "#############################################################"
   ]
  },
  {
   "cell_type": "markdown",
   "metadata": {},
   "source": [
    "### 2. 이하 수정 금지"
   ]
  },
  {
   "cell_type": "code",
   "execution_count": null,
   "metadata": {},
   "outputs": [],
   "source": [
    "import pandas as pd\n",
    "\n",
    "건물 = pd.read_csv(f'{건물셋}', header=0, encoding='cp949', engine='python')\n",
    "가점 = pd.read_csv(f'{가점척도}', header=0, encoding='cp949', engine='python')\n",
    "건물.rename(columns = {'BDTYP_CD':'건물용도코드'},inplace = True)\n",
    "건물.rename(columns = {'BUL_MAN_NO':'건물일련번호'},inplace = True)\n",
    "건물.rename(columns = {'GRO_FLO_CO':'지상층수'},inplace = True)\n",
    "display(건물.head(2))\n",
    "display(가점.head(2))"
   ]
  },
  {
   "cell_type": "code",
   "execution_count": null,
   "metadata": {},
   "outputs": [],
   "source": [
    "merged = 건물.merge(가점, on='건물용도코드')\n",
    "merged = merged[['건물용도코드','건물종류', '건물일련번호', '가점척도','lon', 'lat']]\n",
    "merged.head(2)"
   ]
  },
  {
   "cell_type": "code",
   "execution_count": null,
   "metadata": {},
   "outputs": [],
   "source": [
    "가점갯수 = len(merged['가점척도'].unique())\n",
    "bd = [None] * 가점갯수\n",
    "\n",
    "for i in range(가점갯수):\n",
    "    bd[i] = merged[merged['가점척도']==i]    \n",
    "    bd[i].to_csv(f'건물{i}.csv', index=False, sep=',', encoding='cp949')    \n",
    "    display (bd[i].iloc[[0]])\n",
    "for i in range(가점갯수):\n",
    "    print (f\"{i}점 건물수:\",len(bd[i]))"
   ]
  },
  {
   "cell_type": "markdown",
   "metadata": {},
   "source": [
    "끝"
   ]
  }
 ],
 "metadata": {
  "kernelspec": {
   "display_name": "Python 3",
   "language": "python",
   "name": "python3"
  },
  "language_info": {
   "codemirror_mode": {
    "name": "ipython",
    "version": 3
   },
   "file_extension": ".py",
   "mimetype": "text/x-python",
   "name": "python",
   "nbconvert_exporter": "python",
   "pygments_lexer": "ipython3",
   "version": "3.6.5"
  }
 },
 "nbformat": 4,
 "nbformat_minor": 2
}
