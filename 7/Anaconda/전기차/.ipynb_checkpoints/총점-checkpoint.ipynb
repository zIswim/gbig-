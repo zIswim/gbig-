{
 "cells": [
  {
   "cell_type": "markdown",
   "metadata": {},
   "source": [
    "## 총점 및 순위 계산"
   ]
  },
  {
   "cell_type": "markdown",
   "metadata": {},
   "source": [
    "### 1. 읽어들일 파일명 지정 ==> 가지고 있는 파일명으로 수정필요"
   ]
  },
  {
   "cell_type": "code",
   "execution_count": null,
   "metadata": {
    "scrolled": true
   },
   "outputs": [],
   "source": [
    "########### file_name 선언 ##################################\n",
    "전처리데이터셋 = '남양주_전처리데이터셋.csv'\n",
    "##########################################################"
   ]
  },
  {
   "cell_type": "markdown",
   "metadata": {},
   "source": [
    "### 2. 화면에 출력되는 칼럼명을 확인한 후, 필요한 칼럼명을 복사하여 붙여넣기 (수정 불필요)"
   ]
  },
  {
   "cell_type": "code",
   "execution_count": null,
   "metadata": {},
   "outputs": [],
   "source": [
    "import pandas as pd\n",
    "df = pd.read_csv(f'{전처리데이터셋}', header=0, encoding='cp949', engine='python')\n",
    "df.set_index('gid', inplace=True)\n",
    "전체칼럼 = df.columns.tolist()\n",
    "print (\"여기 칼럼명을 확인하신 후 점수계산에 필요한 칼럼명만 복사 하세요.\\n\", 전체칼럼)"
   ]
  },
  {
   "cell_type": "markdown",
   "metadata": {},
   "source": [
    "### 3. 하단에 있는 \"점수칼럼\"에 점수로 환산할 대상인 칼럼을 수정하도록 함 ==> 수정 필요"
   ]
  },
  {
   "cell_type": "code",
   "execution_count": null,
   "metadata": {},
   "outputs": [],
   "source": [
    "#점수칼럼 =  ['건물1', '건물2', '건물3', '관공서', '도서관', '경제인구', '교통량', '전기차', '관광지']\n",
    "점수칼럼 =  ['건물1', '건물2', '건물3', '관공서', '도서관', '경제인구', '전기차']\n",
    "print(\"입력한 점수컬럼명은 다음과 같음\\n\", 점수칼럼)\n",
    "\n",
    "가중치 = [1] * len(점수칼럼)"
   ]
  },
  {
   "cell_type": "markdown",
   "metadata": {},
   "source": [
    "### 4. 건물 가중치 선언 ==> 필요시 수정\n",
    "- 각 건물과 관광지에 대한 가중치를 수기로 선언함\n",
    "- 필요시 가중치 조절 하십시오 \n",
    "- 필요시 가중치 추가 또는 삭제 하십시오"
   ]
  },
  {
   "cell_type": "code",
   "execution_count": null,
   "metadata": {},
   "outputs": [],
   "source": [
    "#점수칼럼  순서대로 점수칼럼 갯수만큼 가중치를 입력하십시오\n",
    "\n",
    "#예를들어 이렇게 가중치를 주고 싶을 경우에는\n",
    "#건물1가중치=1\n",
    "#건물2가중치 = 2\n",
    "#건물3가중치  = 3\n",
    "#관광지가중치=1\n",
    "#도서관가충치=1\n",
    "#경제인구가중치=1\n",
    "#전기차가중치=1\n",
    "#아래 처럼 입력합니다.\n",
    "\n",
    "##### 여기만 수정하면 됩니다 ###############################\n",
    "가중치 = [1,2,3,1,1,1,1]      # 점수칼럼 갯수 만큼, 구분은 쉼표\n",
    "##### 여기만 수정하면 됩니다 ###############################\n",
    "\n",
    "\n",
    "# 수정 불필요\n",
    "if (len(가중치) != len(점수칼럼)):\n",
    "    print(\"입력한 가중치 갯수가 점수칼럼 갯수와 다르므로 확인후 다시 입력 바랍니다\")\n",
    "else:\n",
    "    print(\"다음 줄을 실행 하세요\")"
   ]
  },
  {
   "cell_type": "markdown",
   "metadata": {},
   "source": [
    "### 5. 이하 별도 언급 시까지 수정 불필요\n",
    "- 6.1에서 수정 필요"
   ]
  },
  {
   "cell_type": "code",
   "execution_count": null,
   "metadata": {},
   "outputs": [],
   "source": [
    "df = pd.read_csv(f'{전처리데이터셋}', header=0, encoding='cp949', engine='python')\n",
    "df.set_index('gid', inplace=True)\n",
    "\n",
    "################## QGIS에서 작업한 전처리 결과 CSV 읽기 ####################################################\n",
    "pre_process_set = pd.read_csv(f'{전처리데이터셋}', header=0, encoding='cp949', engine='python')\n",
    "pre_process_set = pre_process_set.sort_values(by='gid')\n",
    "\n",
    "# Null 이 있을 수 있는 칼럼은 Null을 0로 변경\n",
    "pre_process_set.fillna(0, inplace=True)\n",
    "##################  QGIS에서 작업한 전처리 결과 CSV 읽기 끝###################################################\n",
    "\n",
    "################## MinMax정규화 ##########################################################################\n",
    "from sklearn.preprocessing import MinMaxScaler\n",
    "scaler = MinMaxScaler()\n",
    "\n",
    "# 점수칼럼 정규화\n",
    "norm = pre_process_set.copy()\n",
    "norm.fillna(0, inplace=True)\n",
    "norm.set_index('gid', inplace=True)\n",
    "\n",
    "norm[점수칼럼] = scaler.fit_transform(norm.loc[:,점수칼럼])\n",
    "norm.reset_index(inplace=True)\n",
    "################## 정규화 끝################################################################################\n",
    "\n",
    "\n",
    "# 총점 계산\n",
    "df = norm.copy()\n",
    "\n",
    "for i in range(0, len(점수칼럼)):\n",
    "    name = 점수칼럼[i]\n",
    "    df[name] = df[name] * 가중치[i] \n",
    "\n",
    "df.set_index(['gid','주차장','lon','lat'], inplace=True)\n",
    "\n",
    "df['sum'] = df.sum(1)\n",
    "df.reset_index(inplace=True)\n",
    "\n",
    "# 등수 계산 \n",
    "df['순위'] = df['sum'].rank(method='dense', ascending=False).astype(int)\n",
    "\n",
    "final = df.sort_values(by='순위')\n",
    "final.reset_index(drop=True, inplace=True)\n",
    "\n",
    "# 상위 20개만 학인\n",
    "display(\"결과\", final.head(20))\n",
    "\n",
    "# 최종 결과 CSV 파일쓰기\n",
    "final.to_csv('결과_총점.csv', index=False, sep=',', encoding='cp949')"
   ]
  },
  {
   "cell_type": "markdown",
   "metadata": {},
   "source": [
    "## 6. 지도로 보기\n",
    "- 인터넷 환경이 안되면 생략\n",
    "\n",
    "### 6.1 지도로 보기 선택 사항\n",
    "- 상단에서 도출된 결과값들 중에서 상위 3개만 지도로 보여주기\n",
    "- Google Map 처럼 보여지며, 마우스로 스크롤하면 지도 크기가 Zoom 됨\n",
    "- 이를 위해서 Anaconda Promprt 창을 열고 아래 함수를 복사하여 그대로 엔터\n",
    " - pip install folium"
   ]
  },
  {
   "cell_type": "markdown",
   "metadata": {},
   "source": [
    "#### 수정 필요 - 수정 안하면 상위 20개를 조회"
   ]
  },
  {
   "cell_type": "code",
   "execution_count": null,
   "metadata": {},
   "outputs": [],
   "source": [
    "# 보고 싶은 상위권 갯수를 입력하세요\n",
    "지도보기갯수 = 20   # 보고싶은 상위권 갯수를 여기에 입력, 만약 3이면 최상위 3개만 보겠다는 의미"
   ]
  },
  {
   "cell_type": "markdown",
   "metadata": {},
   "source": [
    "### 6.2 수정 불필요"
   ]
  },
  {
   "cell_type": "code",
   "execution_count": null,
   "metadata": {
    "scrolled": false
   },
   "outputs": [],
   "source": [
    "# 지도로 보여주기\n",
    "import folium\n",
    "print(f\"보고자 하는 상위권 갯수는 {지도보기갯수}개 입니다.\")\n",
    "for i in range(지도보기갯수):\n",
    "    지도보기 = folium.Map(location=[final.loc[i,'lat'],final.loc[i,'lon']], zoom_start = 15)\n",
    "    folium.Marker([final.loc[i,'lat'],final.loc[i,'lon']]).add_to(지도보기)\n",
    "    print (final.loc[i,'lat'],final.loc[i,'lon'])\n",
    "    j = i+1\n",
    "    display(f'상위 {j}번째 격자의 센터 위치 보기', 지도보기)"
   ]
  },
  {
   "cell_type": "markdown",
   "metadata": {},
   "source": [
    "### 6. Box Plot 보기 선택 사항 - 수정 불필요\n",
    "- 상기 선택사항 실행여부와 무관하게 9번은 실행가능함\n",
    "- 값들이 몇점대에 몰려 있는지 확인해보는 Box Plot 그래프\n",
    "- 맨 하단부에 몰려 있을 가능성이 높음. 이유는 절반이상이 0점이기 때문"
   ]
  },
  {
   "cell_type": "code",
   "execution_count": null,
   "metadata": {},
   "outputs": [],
   "source": [
    "#참고) 총점 분포도\n",
    "import matplotlib.pyplot as plt"
   ]
  },
  {
   "cell_type": "code",
   "execution_count": null,
   "metadata": {
    "scrolled": true
   },
   "outputs": [],
   "source": [
    "plt.figure()\n",
    "plt.boxplot(final['sum'])\n",
    "plt.show()"
   ]
  },
  {
   "cell_type": "markdown",
   "metadata": {},
   "source": [
    "끝"
   ]
  }
 ],
 "metadata": {
  "kernelspec": {
   "display_name": "Python 3",
   "language": "python",
   "name": "python3"
  },
  "language_info": {
   "codemirror_mode": {
    "name": "ipython",
    "version": 3
   },
   "file_extension": ".py",
   "mimetype": "text/x-python",
   "name": "python",
   "nbconvert_exporter": "python",
   "pygments_lexer": "ipython3",
   "version": "3.6.5"
  }
 },
 "nbformat": 4,
 "nbformat_minor": 2
}
