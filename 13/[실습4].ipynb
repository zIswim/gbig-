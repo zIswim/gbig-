{
 "cells": [
  {
   "cell_type": "markdown",
   "id": "9c646681",
   "metadata": {},
   "source": [
    "# CSV 형식 저장"
   ]
  },
  {
   "cell_type": "markdown",
   "id": "2b96c17d",
   "metadata": {},
   "source": [
    "## save_csv"
   ]
  },
  {
   "cell_type": "code",
   "execution_count": 1,
   "id": "e59155ce",
   "metadata": {},
   "outputs": [],
   "source": [
    "import csv"
   ]
  },
  {
   "cell_type": "code",
   "execution_count": 3,
   "id": "567a66d3",
   "metadata": {},
   "outputs": [],
   "source": [
    "# file open, newline = ''으로 개행문자 지정\n",
    "with open('top_cities.csv', 'w', newline ='') as f:\n",
    "    # csv.writer는 파일 객체를 매개변수로 지정\n",
    "    writer = csv.writer(f)\n",
    "    # 첫 번째 줄에는 헤더를 작성합니다.\n",
    "    writer.writerow(['rank', 'city', 'population'])\n",
    "    # writerows()에 리스트를 전달하면 여러 개의 값을 출력\n",
    "    writer.writerows([\n",
    "        [1, '상하이', 24150000],\n",
    "        [2, '카라치', 23500000],\n",
    "        [3, '베이징', 21516000],\n",
    "        [4, '텐진', 14722100],\n",
    "        [5, '이스탄불', 14160467]\n",
    "    ])"
   ]
  },
  {
   "cell_type": "markdown",
   "id": "caabd1d8",
   "metadata": {},
   "source": [
    "## save_csv_dict"
   ]
  },
  {
   "cell_type": "code",
   "execution_count": null,
   "id": "5cf89054",
   "metadata": {},
   "outputs": [],
   "source": [
    "with open('top_cities.csv', 'w', newline = '', encoding = 'utf-8') as f:\n",
    "    # 첫 번째 매개변수에 파일 객체\n",
    "    # 두 번째 매개변수에 필드명 리스트를 지정\n",
    "    writer = csv.DictWriter(f, ['rank', 'city', 'population'])\n",
    "    # 첫 번째 줄에 헤더를 입력\n",
    "    writer.writeheader()\n",
    "    # writerows()로 여러 개의 데이터를 딕셔너리 형태로 작성\n",
    "    writer.writerows([\n",
    "        {'rank' : 1, 'city' : '상하이', 'population' : 24150000},\n",
    "        {'rank' : 2, 'city' : '카라치', 'population' : 23500000},\n",
    "        {'rank' : 3, 'city' : '베이징', 'population' : 21516000},\n",
    "        {'rank' : 4, 'city' : '텐진', 'population' : 14722100},\n",
    "        {'rank' : 5, 'city' : '이스탄불', 'population' : 14160467},\n",
    "    ])"
   ]
  },
  {
   "cell_type": "code",
   "execution_count": null,
   "id": "c31380bd",
   "metadata": {},
   "outputs": [],
   "source": []
  },
  {
   "cell_type": "markdown",
   "id": "3ba3f0cf",
   "metadata": {},
   "source": [
    "## encoding_check"
   ]
  },
  {
   "cell_type": "code",
   "execution_count": 6,
   "id": "55e33e18",
   "metadata": {},
   "outputs": [],
   "source": [
    "with open('top_cities.csv', 'w', newline = '', encoding = 'utf-8') as f:\n",
    "    # 첫 번째 매개변수에 파일 객체\n",
    "    # 두 번재 매개변수에 파일 객체\n",
    "    writer = csv.DictWriter(f, ['rank', 'city', 'population'])\n",
    "    # 첫 번째 줄에 헤더를 입력\n",
    "    writer.writeheader()\n",
    "    # writerows()로 여러 개의 데이터를 딕셔너리 형태로 작성\n",
    "    writer.writerows([\n",
    "        {'rank': 1, 'city': '상하이', 'population': 24150000},\n",
    "        {'rank': 2, 'city': '카라치', 'population': 23500000},\n",
    "        {'rank': 3, 'city': '베이징', 'population': 21516000},\n",
    "        {'rank': 4, 'city': '텐진', 'population': 14722100},\n",
    "        {'rank': 5, 'city': '이스탄불', 'population': 14160467},\n",
    "    ])"
   ]
  },
  {
   "cell_type": "code",
   "execution_count": 7,
   "id": "ade9a94f",
   "metadata": {},
   "outputs": [
    {
     "data": {
      "text/plain": [
       "'utf-8'"
      ]
     },
     "execution_count": 7,
     "metadata": {},
     "output_type": "execute_result"
    }
   ],
   "source": [
    "import chardet\n",
    "char_dic = chardet.detect(open('top_cities.csv', 'rb').read())\n",
    "char_dic['encoding']"
   ]
  },
  {
   "cell_type": "markdown",
   "id": "b7190e67",
   "metadata": {},
   "source": [
    "## JSON 형식으로 저장"
   ]
  },
  {
   "cell_type": "code",
   "execution_count": 8,
   "id": "181ac6cb",
   "metadata": {},
   "outputs": [],
   "source": [
    "import json"
   ]
  },
  {
   "cell_type": "code",
   "execution_count": 9,
   "id": "6f374d35",
   "metadata": {},
   "outputs": [],
   "source": [
    "cities = [\n",
    "    {'rank': 1, 'city' : '상하이', 'population' : 24150000},\n",
    "    {'rank': 2, 'city': '카라치', 'population': 23500000},\n",
    "    {'rank': 3, 'city': '베이징', 'population': 21516000},\n",
    "    {'rank': 4, 'city': '텐진', 'population': 14722100},\n",
    "    {'rank': 5, 'city': '이스탄불', 'population': 14160467},\n",
    "]"
   ]
  },
  {
   "cell_type": "code",
   "execution_count": 10,
   "id": "cb3df1e5",
   "metadata": {},
   "outputs": [],
   "source": [
    "with open('top_cities.json', 'w') as fw:\n",
    "    json.dump(cities, fw)"
   ]
  },
  {
   "cell_type": "code",
   "execution_count": 11,
   "id": "7192e7a1",
   "metadata": {},
   "outputs": [
    {
     "name": "stdout",
     "output_type": "stream",
     "text": [
      "[{'rank': 1, 'city': '상하이', 'population': 24150000}, {'rank': 2, 'city': '카라치', 'population': 23500000}, {'rank': 3, 'city': '베이징', 'population': 21516000}, {'rank': 4, 'city': '텐진', 'population': 14722100}, {'rank': 5, 'city': '이스탄불', 'population': 14160467}]\n"
     ]
    }
   ],
   "source": [
    "with open('top_cities.json', 'r') as fr:\n",
    "    json_file = json.load(fr)\n",
    "    print(json_file)"
   ]
  },
  {
   "cell_type": "markdown",
   "id": "d21d6171",
   "metadata": {},
   "source": [
    "## SQLite3 DBMS로 저장"
   ]
  },
  {
   "cell_type": "code",
   "execution_count": 14,
   "id": "06f37b73",
   "metadata": {},
   "outputs": [],
   "source": [
    "import pandas as pd\n",
    "import sqlite3\n",
    "from pandas.io import sql\n",
    "import os"
   ]
  },
  {
   "cell_type": "code",
   "execution_count": 15,
   "id": "0ff15a3e",
   "metadata": {},
   "outputs": [],
   "source": [
    "DB_NAME = 'top_cities.db'\n",
    "TABLE_NAME = 'TOP_CITIES'"
   ]
  },
  {
   "cell_type": "code",
   "execution_count": 17,
   "id": "341966db",
   "metadata": {},
   "outputs": [],
   "source": [
    "def db_save(df, db_name, table_name):\n",
    "    with sqlite3.connect(db_name) as con:\n",
    "        try:\n",
    "            df.to_sql(name = table_name, con = con, index = False,\n",
    "            if_exists = 'append')\n",
    "            #if_exists : {'fail', 'replace', 'zppend'} default: fail\n",
    "        except Exception as e:\n",
    "            print(str(e))\n",
    "        print(len(df), '건 저장완료..')"
   ]
  },
  {
   "cell_type": "code",
   "execution_count": 18,
   "id": "45655926",
   "metadata": {},
   "outputs": [],
   "source": [
    "def db_select(df, db_name, table_name):\n",
    "    with sqlite3.connect(db_name) as con:\n",
    "        try:\n",
    "            query = 'SELECT * FROM {}'.format(table_name)\n",
    "            df = pd.read_sql(query, con = con)\n",
    "        except Exception as e:\n",
    "            print(str(e))\n",
    "            return df"
   ]
  },
  {
   "cell_type": "code",
   "execution_count": 19,
   "id": "bb8df029",
   "metadata": {},
   "outputs": [],
   "source": [
    "def db_select(df, db_name, table_name):\n",
    "    with sqlite3.connect(db_name) as con:\n",
    "        try:\n",
    "            cur = con.cursor()\n",
    "            sql = 'DELETE FROM {}'.format(table_name)\n",
    "            cur.excute(sql)\n",
    "        except Exceeption as e:\n",
    "            print(str(e))"
   ]
  },
  {
   "cell_type": "code",
   "execution_count": null,
   "id": "5039376c",
   "metadata": {},
   "outputs": [],
   "source": []
  }
 ],
 "metadata": {
  "kernelspec": {
   "display_name": "Python 3 (ipykernel)",
   "language": "python",
   "name": "python3"
  },
  "language_info": {
   "codemirror_mode": {
    "name": "ipython",
    "version": 3
   },
   "file_extension": ".py",
   "mimetype": "text/x-python",
   "name": "python",
   "nbconvert_exporter": "python",
   "pygments_lexer": "ipython3",
   "version": "3.9.12"
  }
 },
 "nbformat": 4,
 "nbformat_minor": 5
}
