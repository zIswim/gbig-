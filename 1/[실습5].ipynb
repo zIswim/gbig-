{
 "cells": [
  {
   "cell_type": "markdown",
   "id": "6ab14a4f",
   "metadata": {},
   "source": [
    "# 3.8.1.4. daum_news_list_final"
   ]
  },
  {
   "cell_type": "code",
   "execution_count": 1,
   "id": "25a60c8f",
   "metadata": {},
   "outputs": [],
   "source": [
    "import requests\n",
    "import lxml.html\n",
    "import pandas as pd\n",
    "import sqlite3\n",
    "from pandas.io import sql\n",
    "import os\n",
    "import time"
   ]
  },
  {
   "cell_type": "code",
   "execution_count": 2,
   "id": "0509d5b1",
   "metadata": {},
   "outputs": [],
   "source": [
    "def db_save(NEWS_LIST):\n",
    "    with sqlite3.connect(os.path.join('.', 'sqliteDB')) as con:\n",
    "        try:\n",
    "            NEWS_LIST.to_sql(name = 'NEWS_LIST', con = con, index = False, if_exists = 'append')\n",
    "            # if_exists : {'fail', 'replce', 'append'} default : fail\n",
    "        except Exception as e:\n",
    "            print(str(e))\n",
    "        print(len(NEWS_LIST), '건 저장완료..')"
   ]
  },
  {
   "cell_type": "code",
   "execution_count": 3,
   "id": "7c2a541e",
   "metadata": {},
   "outputs": [],
   "source": [
    "def db_delete():\n",
    "    with sqlite3.connect(os.path.join('.', 'sqliteDB')) as con:\n",
    "        try:\n",
    "            cur = con.cursor()\n",
    "            sql = 'DELETE FROM NEWS_LIST'\n",
    "            cur.execute(sql)\n",
    "        except Exception as e:\n",
    "            print(str(e))"
   ]
  },
  {
   "cell_type": "code",
   "execution_count": 4,
   "id": "e0887fd8",
   "metadata": {},
   "outputs": [],
   "source": [
    "def db_select():\n",
    "    with sqlite3.connect(os.path.join('.', 'sqliteDB')) as con:\n",
    "        try:\n",
    "            query = 'SELECT * FROM NEWS_LIST'\n",
    "            NEWS_LIST = pd.read_sql(query, con = con)\n",
    "        except Exception as e:\n",
    "            print(str(e))\n",
    "        return NEWS_LIST"
   ]
  },
  {
   "cell_type": "code",
   "execution_count": 5,
   "id": "4098a582",
   "metadata": {},
   "outputs": [],
   "source": [
    "import re\n",
    "import string\n",
    "\n",
    "def get_detail(url):\n",
    "    body = []\n",
    "    punc = '[!\"#$%&\\'()*+,-./:;<=>?[\\]^_`{|}~“”·]'\n",
    "    response = requests.get(url)\n",
    "    root = lxml.html.fromstring(response.content)\n",
    "    for p in root.xpath('//*[@id=\"harmonyContainer\"]/section/p'):\n",
    "        if p.text: # 체크\n",
    "            body.append(re.sub(punc, '', p.text)) # 특수문자 제거\n",
    "    full_body = ' '.join(body)\n",
    "    \n",
    "    return full_body"
   ]
  },
  {
   "cell_type": "code",
   "execution_count": 19,
   "id": "00f7637d",
   "metadata": {},
   "outputs": [],
   "source": [
    "page = 58\n",
    "max_page = 0\n",
    "REG_DATE = '20220719'"
   ]
  },
  {
   "cell_type": "code",
   "execution_count": 20,
   "id": "9c8cf541",
   "metadata": {},
   "outputs": [],
   "source": [
    "while(True):\n",
    "    df_list = []\n",
    "    response = requests.get('http://news.daum.net/breakingnews/digital?page={}&regDate={}'\\\n",
    "                           .format(page, REG_DATE))\n",
    "    root = lxml.html.fromstring(response.content)\n",
    "    for li in root.xpath('//*[@id=\"mArticle\"]/div[3]/ul/li'):\n",
    "        a = li.xpath('div/strong/a')[0]\n",
    "        url = a.get('href')\n",
    "        article = get_detail(url)\n",
    "        df = pd.DataFrame({'URL' : [url], 'TITLE':[a.text], 'ARTICLE' : [article]})\n",
    "        df_list.append(df)\n",
    "    \n",
    "    if df_list:\n",
    "        df_10 = pd.concat(df_list)\n",
    "        db_save(df_10)\n",
    "        \n",
    "    # 페이지 번호 중에서 max 페이지 가져오기\n",
    "    for a in root.xpath('//*[@id=\"mArticle\"]/div[3]/div/span/a'):\n",
    "        try:\n",
    "            num = int(a.text)\n",
    "            if max_page < num:\n",
    "                max_page = num\n",
    "        except:\n",
    "            pass\n",
    "        \n",
    "    \n",
    "    # 마지막 페이지 여부 확인        \n",
    "    span = root.xpath('//*[@id=\"mArticle\"]/div[3]/div/span/a[@clss=\"btn_page btn_next\"]')\n",
    "    \n",
    "    if(len(span) <= 0) & (page > max_page):\n",
    "        break\n",
    "    else:\n",
    "        page = page + 1\n",
    "    \n",
    "    time.sleep(1)"
   ]
  },
  {
   "cell_type": "code",
   "execution_count": 21,
   "id": "ca5af7c6",
   "metadata": {},
   "outputs": [],
   "source": [
    "# db_delete()"
   ]
  },
  {
   "cell_type": "code",
   "execution_count": 22,
   "id": "3c97c3e9",
   "metadata": {},
   "outputs": [
    {
     "name": "stdout",
     "output_type": "stream",
     "text": [
      "                                      URL  \\\n",
      "0  https://v.daum.net/v/20220718030251882   \n",
      "1  https://v.daum.net/v/20220718030110781   \n",
      "2  https://v.daum.net/v/20220718030031766   \n",
      "3  https://v.daum.net/v/20220718000343281   \n",
      "4  https://v.daum.net/v/20220718000148237   \n",
      "5  https://v.daum.net/v/20220718000019204   \n",
      "\n",
      "                                           TITLE  \\\n",
      "0         \"우리 지역서 원격근무하면 1만2000달러 그냥 드릴게\" [핫 코너]   \n",
      "1  반도체 패키지 기판 수요 폭발.. 26만㎡ 공장에 3000억 투입해 라인 증설 중   \n",
      "2               삼성·배민·토스.. 독서광 CEO들 \"이 책은 꼭 읽어라\"   \n",
      "3                             [사진] 로봇이 알아서 운송 척척   \n",
      "4     숏폼이 대세..유튜브 \"쇼츠 조회수 하루 300억회, 수익화 방안 곧 마련\"   \n",
      "5                  보건복지부, 백신‧바이오의약품 생산공정 기본교육 진행   \n",
      "\n",
      "                                             ARTICLE  \n",
      "0  한때 미 석유산업의 중심지로 ‘오일 도시’라 불렸던 중서부 오클라호마주 털사는 지난...  \n",
      "1  지난 14일 오후 부산 강서구 녹산산단에 있는 삼성전기 부산사업장 4500명이 근무...  \n",
      "2  대기업스타트업 CEO최고경영자가 ‘올여름 휴가철 추천하고픈 책’은 무엇일까 본지의 ...  \n",
      "3   지난 15일 경기도 군포시 CJ대한통운 스마트 풀필먼트 센터에서 AGV바닥에 부착...  \n",
      "4  세계 최대 동영상 플랫폼 유튜브가 숏폼15초 내외의 짧은 영상 콘텐트인 ‘쇼츠’ 출...  \n",
      "5  지디넷코리아조민규 기자보건복지부는 7월 18일부터 29일까지 ‘백신‧바이오의약품 생...  \n"
     ]
    }
   ],
   "source": [
    "print(db_select())"
   ]
  },
  {
   "cell_type": "code",
   "execution_count": null,
   "id": "a11079d7",
   "metadata": {},
   "outputs": [],
   "source": []
  }
 ],
 "metadata": {
  "kernelspec": {
   "display_name": "Python 3 (ipykernel)",
   "language": "python",
   "name": "python3"
  },
  "language_info": {
   "codemirror_mode": {
    "name": "ipython",
    "version": 3
   },
   "file_extension": ".py",
   "mimetype": "text/x-python",
   "name": "python",
   "nbconvert_exporter": "python",
   "pygments_lexer": "ipython3",
   "version": "3.9.12"
  }
 },
 "nbformat": 4,
 "nbformat_minor": 5
}
