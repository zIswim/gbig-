{
 "cells": [
  {
   "cell_type": "markdown",
   "id": "be3bc118",
   "metadata": {},
   "source": [
    "# 3.8.1.1. daum_news_list_1"
   ]
  },
  {
   "cell_type": "code",
   "execution_count": 1,
   "id": "0c7e9607",
   "metadata": {},
   "outputs": [],
   "source": [
    "import requests\n",
    "import lxml.html\n",
    "import pandas as pd\n",
    "import sqlite3\n",
    "from pandas.io import sql\n",
    "import os"
   ]
  },
  {
   "cell_type": "code",
   "execution_count": 2,
   "id": "d6233def",
   "metadata": {},
   "outputs": [],
   "source": [
    "REG_DATE = '20220719'"
   ]
  },
  {
   "cell_type": "code",
   "execution_count": 3,
   "id": "f63c6db7",
   "metadata": {},
   "outputs": [],
   "source": [
    "response = requests.get('https://news.daum.net/breakingnews/digital?regDate={}'.format(REG_DATE))\n",
    "root = lxml.html.fromstring(response.content)\n",
    "for li in root.xpath('//*[@id=\"mArticle\"]/div[3]/ui/li'):\n",
    "    a = li.xpath('div/strong/a')[0]\n",
    "    url = a.get('href')\n",
    "    print(url, a.text)"
   ]
  },
  {
   "cell_type": "code",
   "execution_count": 4,
   "id": "cbcf2b97",
   "metadata": {},
   "outputs": [
    {
     "name": "stdout",
     "output_type": "stream",
     "text": [
      "https://v.daum.net/v/20220719111342495 상반기 국내 에스프레소머신 시장 규모 628억원..전년비 18% 성장\n",
      "https://v.daum.net/v/20220719111308473 메타 휴먼 기술로 구현한 최동원.. '컴프야V22', 메이킹필름 공개\n",
      "https://v.daum.net/v/20220719111223418 \"태블릿으로 배워요\"..전북교육청, 온라인 콘텐츠 선도학교 운영\n",
      "https://v.daum.net/v/20220719111207405 전경련 \"국내 외국인직접투자 일본에 3년연속 뒤져..환경 개선 필요\"\n",
      "https://v.daum.net/v/20220719111205403 웹젠, '뮤 아크엔젤2' 신규 클래스 '그로우랜서' 추가\n",
      "https://v.daum.net/v/20220719111203400 위메이드플레이, '니모의 아쿠아 팝' 아시아 사전예약 실시\n",
      "https://v.daum.net/v/20220719111104355 텐센트, 중국게임사 최초로 한국 게임산업협회 이사사 가입\n",
      "https://v.daum.net/v/20220719111058345 파괴적 비행 눈길..펄어비스, '각성 드라카니아' 공개\n",
      "https://v.daum.net/v/20220719111058344 LG CNS, 정부세종청사 AI 관제시스템 구축사업 수주\n",
      "https://v.daum.net/v/20220719110902247 가장 빠르고 거대한 조직이 나타났다..전 산업을 뒤흔드는 DAO [긱스]\n",
      "https://v.daum.net/v/20220719110816210 [속보] 감염재생산지수 '1.40→1.58′ 상승..위험도는 2주째 '중간'\n",
      "https://v.daum.net/v/20220719110704145 삼성전자, '비스포크 제트 봇 AI 미니언즈' 한정판 출시\n",
      "https://v.daum.net/v/20220719110654133 포시에스 이폼사인, 우수연구개발 혁신제품 지정\n",
      "https://v.daum.net/v/20220719110641131 로봇이 사장교 케이블 안전진단\n",
      "https://v.daum.net/v/20220719110625119 故최동원 선수 되살린 컴투스의 컴퓨터그래픽..어떻게?\n"
     ]
    }
   ],
   "source": [
    "response = requests.get('https://news.daum.net/breakingnews/digital?regDate={}'.format(REG_DATE))                   \n",
    "root = lxml.html.fromstring(response.content)\n",
    "for li in root.xpath('//*[@id=\"mArticle\"]/div[3]/ul/li'):\n",
    "    a = li.xpath('div/strong/a')[0]\n",
    "    url = a.get('href')\n",
    "    print(url, a.text)"
   ]
  },
  {
   "cell_type": "code",
   "execution_count": null,
   "id": "e4d9a375",
   "metadata": {},
   "outputs": [],
   "source": []
  }
 ],
 "metadata": {
  "kernelspec": {
   "display_name": "Python 3 (ipykernel)",
   "language": "python",
   "name": "python3"
  },
  "language_info": {
   "codemirror_mode": {
    "name": "ipython",
    "version": 3
   },
   "file_extension": ".py",
   "mimetype": "text/x-python",
   "name": "python",
   "nbconvert_exporter": "python",
   "pygments_lexer": "ipython3",
   "version": "3.9.12"
  }
 },
 "nbformat": 4,
 "nbformat_minor": 5
}
