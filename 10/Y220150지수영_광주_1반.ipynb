{
 "cells": [
  {
   "cell_type": "markdown",
   "id": "c3dab197",
   "metadata": {},
   "source": [
    "# 데이터 실수화"
   ]
  },
  {
   "cell_type": "code",
   "execution_count": 1,
   "id": "8ca09e42",
   "metadata": {},
   "outputs": [],
   "source": [
    "import pandas as pd\n",
    "from sklearn.preprocessing import LabelEncoder\n",
    "from sklearn.preprocessing import OneHotEncoder"
   ]
  },
  {
   "cell_type": "code",
   "execution_count": 2,
   "id": "d8a3ad76",
   "metadata": {},
   "outputs": [
    {
     "data": {
      "text/html": [
       "<div>\n",
       "<style scoped>\n",
       "    .dataframe tbody tr th:only-of-type {\n",
       "        vertical-align: middle;\n",
       "    }\n",
       "\n",
       "    .dataframe tbody tr th {\n",
       "        vertical-align: top;\n",
       "    }\n",
       "\n",
       "    .dataframe thead th {\n",
       "        text-align: right;\n",
       "    }\n",
       "</style>\n",
       "<table border=\"1\" class=\"dataframe\">\n",
       "  <thead>\n",
       "    <tr style=\"text-align: right;\">\n",
       "      <th></th>\n",
       "      <th>성별</th>\n",
       "    </tr>\n",
       "  </thead>\n",
       "  <tbody>\n",
       "    <tr>\n",
       "      <th>0</th>\n",
       "      <td>남성</td>\n",
       "    </tr>\n",
       "    <tr>\n",
       "      <th>1</th>\n",
       "      <td>여성</td>\n",
       "    </tr>\n",
       "    <tr>\n",
       "      <th>2</th>\n",
       "      <td>남성</td>\n",
       "    </tr>\n",
       "  </tbody>\n",
       "</table>\n",
       "</div>"
      ],
      "text/plain": [
       "   성별\n",
       "0  남성\n",
       "1  여성\n",
       "2  남성"
      ]
     },
     "execution_count": 2,
     "metadata": {},
     "output_type": "execute_result"
    }
   ],
   "source": [
    "# 데이터 set 생성\n",
    "x_train = pd.DataFrame([\"남성\", \"여성\", \"남성\", \"여성\", \"남성\", \"여성\"], columns = [\"성별\"])\n",
    "\n",
    "# 데이터 확인\n",
    "x_train.head(3)"
   ]
  },
  {
   "cell_type": "code",
   "execution_count": 3,
   "id": "5b0ad213",
   "metadata": {},
   "outputs": [
    {
     "name": "stdout",
     "output_type": "stream",
     "text": [
      "<class 'pandas.core.frame.DataFrame'>\n",
      "RangeIndex: 6 entries, 0 to 5\n",
      "Data columns (total 1 columns):\n",
      " #   Column  Non-Null Count  Dtype \n",
      "---  ------  --------------  ----- \n",
      " 0   성별      6 non-null      object\n",
      "dtypes: object(1)\n",
      "memory usage: 176.0+ bytes\n"
     ]
    }
   ],
   "source": [
    "x_train.info()"
   ]
  },
  {
   "cell_type": "code",
   "execution_count": 4,
   "id": "88494843",
   "metadata": {},
   "outputs": [
    {
     "data": {
      "text/plain": [
       "남성    3\n",
       "여성    3\n",
       "Name: 성별, dtype: int64"
      ]
     },
     "execution_count": 4,
     "metadata": {},
     "output_type": "execute_result"
    }
   ],
   "source": [
    "x_train['성별'].value_counts()"
   ]
  },
  {
   "cell_type": "code",
   "execution_count": 5,
   "id": "b7749c7a",
   "metadata": {},
   "outputs": [],
   "source": [
    "# 레이블 인코더 생성\n",
    "encoing = LabelEncoder()\n",
    "#x_train 데이터를 이용하여 피팅하고 레이블 숫자로 변환\n",
    "encoing.fit(x_train[\"성별\"])\n",
    "x_train[\"성별_인코딩\"] = encoing.transform(x_train[\"성별\"])"
   ]
  },
  {
   "cell_type": "code",
   "execution_count": 6,
   "id": "14824278",
   "metadata": {},
   "outputs": [
    {
     "data": {
      "text/html": [
       "<div>\n",
       "<style scoped>\n",
       "    .dataframe tbody tr th:only-of-type {\n",
       "        vertical-align: middle;\n",
       "    }\n",
       "\n",
       "    .dataframe tbody tr th {\n",
       "        vertical-align: top;\n",
       "    }\n",
       "\n",
       "    .dataframe thead th {\n",
       "        text-align: right;\n",
       "    }\n",
       "</style>\n",
       "<table border=\"1\" class=\"dataframe\">\n",
       "  <thead>\n",
       "    <tr style=\"text-align: right;\">\n",
       "      <th></th>\n",
       "      <th>성별</th>\n",
       "      <th>성별_인코딩</th>\n",
       "    </tr>\n",
       "  </thead>\n",
       "  <tbody>\n",
       "    <tr>\n",
       "      <th>0</th>\n",
       "      <td>남성</td>\n",
       "      <td>0</td>\n",
       "    </tr>\n",
       "    <tr>\n",
       "      <th>1</th>\n",
       "      <td>여성</td>\n",
       "      <td>1</td>\n",
       "    </tr>\n",
       "    <tr>\n",
       "      <th>2</th>\n",
       "      <td>남성</td>\n",
       "      <td>0</td>\n",
       "    </tr>\n",
       "    <tr>\n",
       "      <th>3</th>\n",
       "      <td>여성</td>\n",
       "      <td>1</td>\n",
       "    </tr>\n",
       "    <tr>\n",
       "      <th>4</th>\n",
       "      <td>남성</td>\n",
       "      <td>0</td>\n",
       "    </tr>\n",
       "    <tr>\n",
       "      <th>5</th>\n",
       "      <td>여성</td>\n",
       "      <td>1</td>\n",
       "    </tr>\n",
       "  </tbody>\n",
       "</table>\n",
       "</div>"
      ],
      "text/plain": [
       "   성별  성별_인코딩\n",
       "0  남성       0\n",
       "1  여성       1\n",
       "2  남성       0\n",
       "3  여성       1\n",
       "4  남성       0\n",
       "5  여성       1"
      ]
     },
     "execution_count": 6,
     "metadata": {},
     "output_type": "execute_result"
    }
   ],
   "source": [
    "x_train"
   ]
  },
  {
   "cell_type": "code",
   "execution_count": 7,
   "id": "8aba4dcb",
   "metadata": {},
   "outputs": [
    {
     "name": "stdout",
     "output_type": "stream",
     "text": [
      "['남성', '여성']\n",
      "['여성', '남성']\n"
     ]
    }
   ],
   "source": [
    "print(list(encoing.classes_)) # 클래스 확인\n",
    "print(list(encoing.inverse_transform([1,0]))) # 인코딩 값으로 문자값 확인\n",
    "# print(list(encoing.inverse_transform([0,1])))"
   ]
  },
  {
   "cell_type": "code",
   "execution_count": 8,
   "id": "02dc9f73",
   "metadata": {},
   "outputs": [
    {
     "data": {
      "text/html": [
       "<div>\n",
       "<style scoped>\n",
       "    .dataframe tbody tr th:only-of-type {\n",
       "        vertical-align: middle;\n",
       "    }\n",
       "\n",
       "    .dataframe tbody tr th {\n",
       "        vertical-align: top;\n",
       "    }\n",
       "\n",
       "    .dataframe thead th {\n",
       "        text-align: right;\n",
       "    }\n",
       "</style>\n",
       "<table border=\"1\" class=\"dataframe\">\n",
       "  <thead>\n",
       "    <tr style=\"text-align: right;\">\n",
       "      <th></th>\n",
       "      <th>성별</th>\n",
       "      <th>성별_인코딩</th>\n",
       "    </tr>\n",
       "  </thead>\n",
       "  <tbody>\n",
       "    <tr>\n",
       "      <th>0</th>\n",
       "      <td>남성</td>\n",
       "      <td>0</td>\n",
       "    </tr>\n",
       "    <tr>\n",
       "      <th>1</th>\n",
       "      <td>여성</td>\n",
       "      <td>1</td>\n",
       "    </tr>\n",
       "  </tbody>\n",
       "</table>\n",
       "</div>"
      ],
      "text/plain": [
       "   성별  성별_인코딩\n",
       "0  남성       0\n",
       "1  여성       1"
      ]
     },
     "execution_count": 8,
     "metadata": {},
     "output_type": "execute_result"
    }
   ],
   "source": [
    "x_train.head(2)"
   ]
  },
  {
   "cell_type": "code",
   "execution_count": 9,
   "id": "bb3de13d",
   "metadata": {},
   "outputs": [
    {
     "data": {
      "text/plain": [
       "array([[1., 0.],\n",
       "       [0., 1.],\n",
       "       [1., 0.],\n",
       "       [0., 1.],\n",
       "       [1., 0.],\n",
       "       [0., 1.]])"
      ]
     },
     "execution_count": 9,
     "metadata": {},
     "output_type": "execute_result"
    }
   ],
   "source": [
    "# 원핫인코더 생성\n",
    "# sparse를 True로 할 경우 \"(행, 열) 1의 좌표리스트의 형식, False로 할 경우 넘파이 배열로 반환\"\n",
    "\n",
    "one_encoding = OneHotEncoder(sparse = False)\n",
    "#one_encoding = OneHotEncoder(sparse = True)\n",
    "\n",
    "# X_train 데이터를 이용하여 피팅\n",
    "one_encoding.fit(x_train[[\"성별\"]])\n",
    "\n",
    "# 가변환값 변환\n",
    "one_encoding.transform(x_train[[\"성별\"]])\n",
    "\n",
    "# one_encoding.fit_transform(x_train[[\"성별\"]])"
   ]
  },
  {
   "cell_type": "code",
   "execution_count": 10,
   "id": "40f1dd41",
   "metadata": {},
   "outputs": [
    {
     "name": "stdout",
     "output_type": "stream",
     "text": [
      "['x0_남성' 'x0_여성']\n"
     ]
    },
    {
     "name": "stderr",
     "output_type": "stream",
     "text": [
      "C:\\ProgramData\\Anaconda3\\lib\\site-packages\\sklearn\\utils\\deprecation.py:87: FutureWarning: Function get_feature_names is deprecated; get_feature_names is deprecated in 1.0 and will be removed in 1.2. Please use get_feature_names_out instead.\n",
      "  warnings.warn(msg, category=FutureWarning)\n"
     ]
    }
   ],
   "source": [
    "# 가변환된 피쳐 확인\n",
    "print(one_encoding.get_feature_names())"
   ]
  },
  {
   "cell_type": "code",
   "execution_count": 11,
   "id": "32fb9efa",
   "metadata": {},
   "outputs": [],
   "source": [
    "# 가변환된 값을 x_train_one 데이터 프레임으로 저장\n",
    "x_train_one = pd.DataFrame(one_encoding.transform(x_train[[\"성별\"]]), columns = ['성별0', '성별1'])"
   ]
  },
  {
   "cell_type": "code",
   "execution_count": 12,
   "id": "5e7b1451",
   "metadata": {},
   "outputs": [],
   "source": [
    "# x_train 데이터와 x_train_one의 가변환된 속성 합침\n",
    "x_train = pd.concat([x_train, x_train_one], axis = 1)"
   ]
  },
  {
   "cell_type": "code",
   "execution_count": 13,
   "id": "932f800c",
   "metadata": {},
   "outputs": [
    {
     "data": {
      "text/html": [
       "<div>\n",
       "<style scoped>\n",
       "    .dataframe tbody tr th:only-of-type {\n",
       "        vertical-align: middle;\n",
       "    }\n",
       "\n",
       "    .dataframe tbody tr th {\n",
       "        vertical-align: top;\n",
       "    }\n",
       "\n",
       "    .dataframe thead th {\n",
       "        text-align: right;\n",
       "    }\n",
       "</style>\n",
       "<table border=\"1\" class=\"dataframe\">\n",
       "  <thead>\n",
       "    <tr style=\"text-align: right;\">\n",
       "      <th></th>\n",
       "      <th>성별</th>\n",
       "      <th>성별_인코딩</th>\n",
       "      <th>성별0</th>\n",
       "      <th>성별1</th>\n",
       "    </tr>\n",
       "  </thead>\n",
       "  <tbody>\n",
       "    <tr>\n",
       "      <th>0</th>\n",
       "      <td>남성</td>\n",
       "      <td>0</td>\n",
       "      <td>1.0</td>\n",
       "      <td>0.0</td>\n",
       "    </tr>\n",
       "    <tr>\n",
       "      <th>1</th>\n",
       "      <td>여성</td>\n",
       "      <td>1</td>\n",
       "      <td>0.0</td>\n",
       "      <td>1.0</td>\n",
       "    </tr>\n",
       "    <tr>\n",
       "      <th>2</th>\n",
       "      <td>남성</td>\n",
       "      <td>0</td>\n",
       "      <td>1.0</td>\n",
       "      <td>0.0</td>\n",
       "    </tr>\n",
       "  </tbody>\n",
       "</table>\n",
       "</div>"
      ],
      "text/plain": [
       "   성별  성별_인코딩  성별0  성별1\n",
       "0  남성       0  1.0  0.0\n",
       "1  여성       1  0.0  1.0\n",
       "2  남성       0  1.0  0.0"
      ]
     },
     "execution_count": 13,
     "metadata": {},
     "output_type": "execute_result"
    }
   ],
   "source": [
    "x_train.head(3)"
   ]
  },
  {
   "cell_type": "code",
   "execution_count": 14,
   "id": "2104cf1d",
   "metadata": {},
   "outputs": [],
   "source": [
    "from sklearn.feature_extraction.text import CountVectorizer"
   ]
  },
  {
   "cell_type": "code",
   "execution_count": 15,
   "id": "262d1319",
   "metadata": {},
   "outputs": [],
   "source": [
    "corpus = [\n",
    "    '청년 인재 개발 양성 과정',\n",
    "    '인공지능 청년 양성',\n",
    "    '미래 인공지능 데이터 대한민국', \n",
    "    '데이터 원유 기술사 청년 개발'\n",
    "]"
   ]
  },
  {
   "cell_type": "code",
   "execution_count": 16,
   "id": "2d7a1116",
   "metadata": {},
   "outputs": [
    {
     "data": {
      "text/plain": [
       "['청년 인재 개발 양성 과정', '인공지능 청년 양성', '미래 인공지능 데이터 대한민국', '데이터 원유 기술사 청년 개발']"
      ]
     },
     "execution_count": 16,
     "metadata": {},
     "output_type": "execute_result"
    }
   ],
   "source": [
    "corpus"
   ]
  },
  {
   "cell_type": "code",
   "execution_count": 17,
   "id": "ae29c1b2",
   "metadata": {},
   "outputs": [
    {
     "data": {
      "text/plain": [
       "list"
      ]
     },
     "execution_count": 17,
     "metadata": {},
     "output_type": "execute_result"
    }
   ],
   "source": [
    "type(corpus)"
   ]
  },
  {
   "cell_type": "code",
   "execution_count": 18,
   "id": "7ef307e6",
   "metadata": {},
   "outputs": [
    {
     "data": {
      "text/plain": [
       "list"
      ]
     },
     "execution_count": 18,
     "metadata": {},
     "output_type": "execute_result"
    }
   ],
   "source": [
    "type(corpus)"
   ]
  },
  {
   "cell_type": "code",
   "execution_count": 19,
   "id": "df6e871d",
   "metadata": {},
   "outputs": [
    {
     "data": {
      "text/plain": [
       "{'청년': 10,\n",
       " '인재': 9,\n",
       " '개발': 0,\n",
       " '양성': 6,\n",
       " '과정': 1,\n",
       " '인공지능': 8,\n",
       " '미래': 5,\n",
       " '데이터': 4,\n",
       " '대한민국': 3,\n",
       " '원유': 7,\n",
       " '기술사': 2}"
      ]
     },
     "execution_count": 19,
     "metadata": {},
     "output_type": "execute_result"
    }
   ],
   "source": [
    "# 카운트 벡터라이저 생성\n",
    "count_vect = CountVectorizer()\n",
    "\n",
    "# 단어 카운트\n",
    "count_vect.fit(corpus)\n",
    "\n",
    "# 단어 확인\n",
    "count_vect.vocabulary_"
   ]
  },
  {
   "cell_type": "code",
   "execution_count": 20,
   "id": "80587fc4",
   "metadata": {},
   "outputs": [
    {
     "data": {
      "text/plain": [
       "array([[1, 1, 0, 0, 0, 0, 1, 0, 0, 1, 1],\n",
       "       [0, 0, 0, 0, 0, 0, 1, 0, 1, 0, 1],\n",
       "       [0, 0, 0, 1, 1, 1, 0, 0, 1, 0, 0],\n",
       "       [1, 0, 1, 0, 1, 0, 0, 1, 0, 0, 1]], dtype=int64)"
      ]
     },
     "execution_count": 20,
     "metadata": {},
     "output_type": "execute_result"
    }
   ],
   "source": [
    "# 단어 벡터화한 값을 array로 변환하여 확인\n",
    "count_vect.transform(corpus).toarray()"
   ]
  },
  {
   "cell_type": "code",
   "execution_count": 21,
   "id": "c6eecfe6",
   "metadata": {},
   "outputs": [
    {
     "data": {
      "text/plain": [
       "<4x11 sparse matrix of type '<class 'numpy.int64'>'\n",
       "\twith 17 stored elements in Compressed Sparse Row format>"
      ]
     },
     "execution_count": 21,
     "metadata": {},
     "output_type": "execute_result"
    }
   ],
   "source": [
    "# 단어 벡터화\n",
    "features = count_vect.transform(corpus)\n",
    "features"
   ]
  },
  {
   "cell_type": "code",
   "execution_count": 22,
   "id": "6e1dadf8",
   "metadata": {},
   "outputs": [
    {
     "name": "stderr",
     "output_type": "stream",
     "text": [
      "C:\\ProgramData\\Anaconda3\\lib\\site-packages\\sklearn\\utils\\deprecation.py:87: FutureWarning: Function get_feature_names is deprecated; get_feature_names is deprecated in 1.0 and will be removed in 1.2. Please use get_feature_names_out instead.\n",
      "  warnings.warn(msg, category=FutureWarning)\n"
     ]
    },
    {
     "data": {
      "text/plain": [
       "['개발', '과정', '기술사', '대한민국', '데이터', '미래', '양성', '원유', '인공지능', '인재', '청년']"
      ]
     },
     "execution_count": 22,
     "metadata": {},
     "output_type": "execute_result"
    }
   ],
   "source": [
    "# 속성 이름만 반환\n",
    "vocab = count_vect.get_feature_names()\n",
    "vocab"
   ]
  },
  {
   "cell_type": "code",
   "execution_count": 23,
   "id": "a8b92141",
   "metadata": {},
   "outputs": [],
   "source": [
    "# 문서단어행렬(DTM)을 데이터 프레임으로 변환\n",
    "DTM = pd.DataFrame(features.toarray(), columns = vocab).head()"
   ]
  },
  {
   "cell_type": "code",
   "execution_count": 24,
   "id": "cd554ddd",
   "metadata": {},
   "outputs": [
    {
     "data": {
      "text/html": [
       "<div>\n",
       "<style scoped>\n",
       "    .dataframe tbody tr th:only-of-type {\n",
       "        vertical-align: middle;\n",
       "    }\n",
       "\n",
       "    .dataframe tbody tr th {\n",
       "        vertical-align: top;\n",
       "    }\n",
       "\n",
       "    .dataframe thead th {\n",
       "        text-align: right;\n",
       "    }\n",
       "</style>\n",
       "<table border=\"1\" class=\"dataframe\">\n",
       "  <thead>\n",
       "    <tr style=\"text-align: right;\">\n",
       "      <th></th>\n",
       "      <th>개발</th>\n",
       "      <th>과정</th>\n",
       "      <th>기술사</th>\n",
       "      <th>대한민국</th>\n",
       "      <th>데이터</th>\n",
       "      <th>미래</th>\n",
       "      <th>양성</th>\n",
       "      <th>원유</th>\n",
       "      <th>인공지능</th>\n",
       "      <th>인재</th>\n",
       "      <th>청년</th>\n",
       "    </tr>\n",
       "  </thead>\n",
       "  <tbody>\n",
       "    <tr>\n",
       "      <th>0</th>\n",
       "      <td>1</td>\n",
       "      <td>1</td>\n",
       "      <td>0</td>\n",
       "      <td>0</td>\n",
       "      <td>0</td>\n",
       "      <td>0</td>\n",
       "      <td>1</td>\n",
       "      <td>0</td>\n",
       "      <td>0</td>\n",
       "      <td>1</td>\n",
       "      <td>1</td>\n",
       "    </tr>\n",
       "    <tr>\n",
       "      <th>1</th>\n",
       "      <td>0</td>\n",
       "      <td>0</td>\n",
       "      <td>0</td>\n",
       "      <td>0</td>\n",
       "      <td>0</td>\n",
       "      <td>0</td>\n",
       "      <td>1</td>\n",
       "      <td>0</td>\n",
       "      <td>1</td>\n",
       "      <td>0</td>\n",
       "      <td>1</td>\n",
       "    </tr>\n",
       "    <tr>\n",
       "      <th>2</th>\n",
       "      <td>0</td>\n",
       "      <td>0</td>\n",
       "      <td>0</td>\n",
       "      <td>1</td>\n",
       "      <td>1</td>\n",
       "      <td>1</td>\n",
       "      <td>0</td>\n",
       "      <td>0</td>\n",
       "      <td>1</td>\n",
       "      <td>0</td>\n",
       "      <td>0</td>\n",
       "    </tr>\n",
       "    <tr>\n",
       "      <th>3</th>\n",
       "      <td>1</td>\n",
       "      <td>0</td>\n",
       "      <td>1</td>\n",
       "      <td>0</td>\n",
       "      <td>1</td>\n",
       "      <td>0</td>\n",
       "      <td>0</td>\n",
       "      <td>1</td>\n",
       "      <td>0</td>\n",
       "      <td>0</td>\n",
       "      <td>1</td>\n",
       "    </tr>\n",
       "  </tbody>\n",
       "</table>\n",
       "</div>"
      ],
      "text/plain": [
       "   개발  과정  기술사  대한민국  데이터  미래  양성  원유  인공지능  인재  청년\n",
       "0   1   1    0     0    0   0   1   0     0   1   1\n",
       "1   0   0    0     0    0   0   1   0     1   0   1\n",
       "2   0   0    0     1    1   1   0   0     1   0   0\n",
       "3   1   0    1     0    1   0   0   1     0   0   1"
      ]
     },
     "execution_count": 24,
     "metadata": {},
     "output_type": "execute_result"
    }
   ],
   "source": [
    "DTM"
   ]
  },
  {
   "cell_type": "code",
   "execution_count": 25,
   "id": "317651fe",
   "metadata": {},
   "outputs": [
    {
     "data": {
      "text/plain": [
       "array([[0, 0, 1, 1, 0, 0, 0, 0, 0, 1, 0]], dtype=int64)"
      ]
     },
     "execution_count": 25,
     "metadata": {},
     "output_type": "execute_result"
    }
   ],
   "source": [
    "# 문서단어행렬에 일치하는 단어 확인\n",
    "count_vect.transform(['기술사 대한민국 인재 만세']).toarray()"
   ]
  },
  {
   "cell_type": "code",
   "execution_count": 26,
   "id": "af1c2314",
   "metadata": {},
   "outputs": [],
   "source": [
    "from sklearn.feature_extraction.text import TfidfVectorizer"
   ]
  },
  {
   "cell_type": "code",
   "execution_count": 27,
   "id": "9bc8fa58",
   "metadata": {},
   "outputs": [
    {
     "data": {
      "text/plain": [
       "['청년 인재 개발 양성 과정', '인공지능 청년 양성', '미래 인공지능 데이터 대한민국', '데이터 원유 기술사 청년 개발']"
      ]
     },
     "execution_count": 27,
     "metadata": {},
     "output_type": "execute_result"
    }
   ],
   "source": [
    "corpus"
   ]
  },
  {
   "cell_type": "code",
   "execution_count": 28,
   "id": "00225628",
   "metadata": {},
   "outputs": [
    {
     "data": {
      "text/plain": [
       "{'청년': 10,\n",
       " '인재': 9,\n",
       " '개발': 0,\n",
       " '양성': 6,\n",
       " '과정': 1,\n",
       " '인공지능': 8,\n",
       " '미래': 5,\n",
       " '데이터': 4,\n",
       " '대한민국': 3,\n",
       " '원유': 7,\n",
       " '기술사': 2}"
      ]
     },
     "execution_count": 28,
     "metadata": {},
     "output_type": "execute_result"
    }
   ],
   "source": [
    "# TF-IDF 벡터라이저 생성\n",
    "tfid = TfidfVectorizer()\n",
    "\n",
    "# 단어 카운트\n",
    "tfid.fit(corpus)\n",
    "\n",
    "# 단어사전 확인\n",
    "tfid.vocabulary_"
   ]
  },
  {
   "cell_type": "code",
   "execution_count": 29,
   "id": "a6cd864b",
   "metadata": {},
   "outputs": [
    {
     "data": {
      "text/plain": [
       "array([[0.41263976, 0.52338122, 0.        , 0.        , 0.        ,\n",
       "        0.        , 0.41263976, 0.        , 0.        , 0.52338122,\n",
       "        0.33406745],\n",
       "       [0.        , 0.        , 0.        , 0.        , 0.        ,\n",
       "        0.        , 0.61366674, 0.        , 0.61366674, 0.        ,\n",
       "        0.49681612],\n",
       "       [0.        , 0.        , 0.        , 0.55528266, 0.43779123,\n",
       "        0.55528266, 0.        , 0.        , 0.43779123, 0.        ,\n",
       "        0.        ],\n",
       "       [0.41263976, 0.        , 0.52338122, 0.        , 0.41263976,\n",
       "        0.        , 0.        , 0.52338122, 0.        , 0.        ,\n",
       "        0.33406745]])"
      ]
     },
     "execution_count": 29,
     "metadata": {},
     "output_type": "execute_result"
    }
   ],
   "source": [
    "# 단어 벡터화한 값을 array로 변환하여 확인\n",
    "tfid.transform(corpus).toarray()"
   ]
  },
  {
   "cell_type": "code",
   "execution_count": 30,
   "id": "8c331266",
   "metadata": {},
   "outputs": [],
   "source": [
    "# 단어 벡터화\n",
    "features_idf = tfid.transform(corpus)"
   ]
  },
  {
   "cell_type": "code",
   "execution_count": 31,
   "id": "33d024db",
   "metadata": {},
   "outputs": [
    {
     "data": {
      "text/plain": [
       "<4x11 sparse matrix of type '<class 'numpy.float64'>'\n",
       "\twith 17 stored elements in Compressed Sparse Row format>"
      ]
     },
     "execution_count": 31,
     "metadata": {},
     "output_type": "execute_result"
    }
   ],
   "source": [
    "features_idf"
   ]
  },
  {
   "cell_type": "code",
   "execution_count": 32,
   "id": "9c22b22e",
   "metadata": {},
   "outputs": [
    {
     "name": "stderr",
     "output_type": "stream",
     "text": [
      "C:\\ProgramData\\Anaconda3\\lib\\site-packages\\sklearn\\utils\\deprecation.py:87: FutureWarning: Function get_feature_names is deprecated; get_feature_names is deprecated in 1.0 and will be removed in 1.2. Please use get_feature_names_out instead.\n",
      "  warnings.warn(msg, category=FutureWarning)\n"
     ]
    },
    {
     "data": {
      "text/plain": [
       "['개발', '과정', '기술사', '대한민국', '데이터', '미래', '양성', '원유', '인공지능', '인재', '청년']"
      ]
     },
     "execution_count": 32,
     "metadata": {},
     "output_type": "execute_result"
    }
   ],
   "source": [
    "# 속성 이름만 반환\n",
    "vocab_idf = count_vect.get_feature_names()\n",
    "vocab_idf"
   ]
  },
  {
   "cell_type": "code",
   "execution_count": 33,
   "id": "641c6e68",
   "metadata": {},
   "outputs": [
    {
     "data": {
      "text/html": [
       "<div>\n",
       "<style scoped>\n",
       "    .dataframe tbody tr th:only-of-type {\n",
       "        vertical-align: middle;\n",
       "    }\n",
       "\n",
       "    .dataframe tbody tr th {\n",
       "        vertical-align: top;\n",
       "    }\n",
       "\n",
       "    .dataframe thead th {\n",
       "        text-align: right;\n",
       "    }\n",
       "</style>\n",
       "<table border=\"1\" class=\"dataframe\">\n",
       "  <thead>\n",
       "    <tr style=\"text-align: right;\">\n",
       "      <th></th>\n",
       "      <th>개발</th>\n",
       "      <th>과정</th>\n",
       "      <th>기술사</th>\n",
       "      <th>대한민국</th>\n",
       "      <th>데이터</th>\n",
       "      <th>미래</th>\n",
       "      <th>양성</th>\n",
       "      <th>원유</th>\n",
       "      <th>인공지능</th>\n",
       "      <th>인재</th>\n",
       "      <th>청년</th>\n",
       "    </tr>\n",
       "  </thead>\n",
       "  <tbody>\n",
       "    <tr>\n",
       "      <th>0</th>\n",
       "      <td>0.41264</td>\n",
       "      <td>0.523381</td>\n",
       "      <td>0.000000</td>\n",
       "      <td>0.000000</td>\n",
       "      <td>0.000000</td>\n",
       "      <td>0.000000</td>\n",
       "      <td>0.412640</td>\n",
       "      <td>0.000000</td>\n",
       "      <td>0.000000</td>\n",
       "      <td>0.523381</td>\n",
       "      <td>0.334067</td>\n",
       "    </tr>\n",
       "    <tr>\n",
       "      <th>1</th>\n",
       "      <td>0.00000</td>\n",
       "      <td>0.000000</td>\n",
       "      <td>0.000000</td>\n",
       "      <td>0.000000</td>\n",
       "      <td>0.000000</td>\n",
       "      <td>0.000000</td>\n",
       "      <td>0.613667</td>\n",
       "      <td>0.000000</td>\n",
       "      <td>0.613667</td>\n",
       "      <td>0.000000</td>\n",
       "      <td>0.496816</td>\n",
       "    </tr>\n",
       "    <tr>\n",
       "      <th>2</th>\n",
       "      <td>0.00000</td>\n",
       "      <td>0.000000</td>\n",
       "      <td>0.000000</td>\n",
       "      <td>0.555283</td>\n",
       "      <td>0.437791</td>\n",
       "      <td>0.555283</td>\n",
       "      <td>0.000000</td>\n",
       "      <td>0.000000</td>\n",
       "      <td>0.437791</td>\n",
       "      <td>0.000000</td>\n",
       "      <td>0.000000</td>\n",
       "    </tr>\n",
       "    <tr>\n",
       "      <th>3</th>\n",
       "      <td>0.41264</td>\n",
       "      <td>0.000000</td>\n",
       "      <td>0.523381</td>\n",
       "      <td>0.000000</td>\n",
       "      <td>0.412640</td>\n",
       "      <td>0.000000</td>\n",
       "      <td>0.000000</td>\n",
       "      <td>0.523381</td>\n",
       "      <td>0.000000</td>\n",
       "      <td>0.000000</td>\n",
       "      <td>0.334067</td>\n",
       "    </tr>\n",
       "  </tbody>\n",
       "</table>\n",
       "</div>"
      ],
      "text/plain": [
       "        개발        과정       기술사      대한민국       데이터        미래        양성  \\\n",
       "0  0.41264  0.523381  0.000000  0.000000  0.000000  0.000000  0.412640   \n",
       "1  0.00000  0.000000  0.000000  0.000000  0.000000  0.000000  0.613667   \n",
       "2  0.00000  0.000000  0.000000  0.555283  0.437791  0.555283  0.000000   \n",
       "3  0.41264  0.000000  0.523381  0.000000  0.412640  0.000000  0.000000   \n",
       "\n",
       "         원유      인공지능        인재        청년  \n",
       "0  0.000000  0.000000  0.523381  0.334067  \n",
       "1  0.000000  0.613667  0.000000  0.496816  \n",
       "2  0.000000  0.437791  0.000000  0.000000  \n",
       "3  0.523381  0.000000  0.000000  0.334067  "
      ]
     },
     "execution_count": 33,
     "metadata": {},
     "output_type": "execute_result"
    }
   ],
   "source": [
    "# 문서단어행렬(DTM)을 데이터 프레임으로 변환\n",
    "DTM_idf = pd.DataFrame(features_idf.toarray(), columns = vocab_idf).head()\n",
    "DTM_idf"
   ]
  },
  {
   "cell_type": "markdown",
   "id": "be00a418",
   "metadata": {},
   "source": [
    "# 결측값 처리"
   ]
  },
  {
   "cell_type": "code",
   "execution_count": 34,
   "id": "0abe61a1",
   "metadata": {},
   "outputs": [],
   "source": [
    "import pandas as pd\n",
    "import numpy as np\n",
    "import matplotlib.pyplot as plt\n",
    "import seaborn as sns\n",
    "\n",
    "# os에 따른 Font 깨짐 제거를 위해 Font 지정\n",
    "import os\n",
    "if os.name == 'nt' : # window OS\n",
    "    font_family = \"Malgun Gothic\"\n",
    "else: # Mac OS\n",
    "    font_family = \"AppleGothic\"\n",
    "    \n",
    "# 값이 깨지는 문제 해결을 위해 파라미터 값 설정\n",
    "sns.set(font = font_family, rc = {\"axes.unicode_minus\" : False})\n",
    "\n",
    "from sklearn.impute import SimpleImputer # sklearn의 열의 평균이나 중앙값, 최빈값으로 대체하게 해주는 클래스\n",
    "from sklearn import linear_model # sklearn의 선형회귀 모델"
   ]
  },
  {
   "cell_type": "code",
   "execution_count": 35,
   "id": "cb56bf50",
   "metadata": {},
   "outputs": [
    {
     "data": {
      "text/html": [
       "<div>\n",
       "<style scoped>\n",
       "    .dataframe tbody tr th:only-of-type {\n",
       "        vertical-align: middle;\n",
       "    }\n",
       "\n",
       "    .dataframe tbody tr th {\n",
       "        vertical-align: top;\n",
       "    }\n",
       "\n",
       "    .dataframe thead th {\n",
       "        text-align: right;\n",
       "    }\n",
       "</style>\n",
       "<table border=\"1\" class=\"dataframe\">\n",
       "  <thead>\n",
       "    <tr style=\"text-align: right;\">\n",
       "      <th></th>\n",
       "      <th>A열</th>\n",
       "      <th>B열</th>\n",
       "      <th>C열</th>\n",
       "      <th>D열</th>\n",
       "    </tr>\n",
       "  </thead>\n",
       "  <tbody>\n",
       "    <tr>\n",
       "      <th>0</th>\n",
       "      <td>NaN</td>\n",
       "      <td>a</td>\n",
       "      <td>NaN</td>\n",
       "      <td>1</td>\n",
       "    </tr>\n",
       "    <tr>\n",
       "      <th>1</th>\n",
       "      <td>4.0</td>\n",
       "      <td>a</td>\n",
       "      <td>3.5</td>\n",
       "      <td>0</td>\n",
       "    </tr>\n",
       "    <tr>\n",
       "      <th>2</th>\n",
       "      <td>6.0</td>\n",
       "      <td>NaN</td>\n",
       "      <td>-1.5</td>\n",
       "      <td>1</td>\n",
       "    </tr>\n",
       "    <tr>\n",
       "      <th>3</th>\n",
       "      <td>5.0</td>\n",
       "      <td>b</td>\n",
       "      <td>NaN</td>\n",
       "      <td>0</td>\n",
       "    </tr>\n",
       "    <tr>\n",
       "      <th>4</th>\n",
       "      <td>5.0</td>\n",
       "      <td>b</td>\n",
       "      <td>5.5</td>\n",
       "      <td>1</td>\n",
       "    </tr>\n",
       "    <tr>\n",
       "      <th>5</th>\n",
       "      <td>NaN</td>\n",
       "      <td>b</td>\n",
       "      <td>NaN</td>\n",
       "      <td>1</td>\n",
       "    </tr>\n",
       "  </tbody>\n",
       "</table>\n",
       "</div>"
      ],
      "text/plain": [
       "    A열   B열   C열  D열\n",
       "0  NaN    a  NaN   1\n",
       "1  4.0    a  3.5   0\n",
       "2  6.0  NaN -1.5   1\n",
       "3  5.0    b  NaN   0\n",
       "4  5.0    b  5.5   1\n",
       "5  NaN    b  NaN   1"
      ]
     },
     "execution_count": 35,
     "metadata": {},
     "output_type": "execute_result"
    }
   ],
   "source": [
    "# 실습 데이터 생성\n",
    "temp_dict = {'A열' : [np.nan, 4, 6, 5, 5, np.nan],\n",
    "            'B열' : ['a', 'a', np.nan, 'b', 'b', 'b'],\n",
    "            'C열' : [np.nan, 3.5, -1.5, np.nan, 5.5, np.nan],\n",
    "            'D열' : [1, 0, 1, 0, 1, 1]}\n",
    "missing_data = pd.DataFrame(temp_dict)\n",
    "missing_data"
   ]
  },
  {
   "cell_type": "code",
   "execution_count": 36,
   "id": "667a1dbc",
   "metadata": {},
   "outputs": [
    {
     "name": "stdout",
     "output_type": "stream",
     "text": [
      "<class 'pandas.core.frame.DataFrame'>\n",
      "RangeIndex: 6 entries, 0 to 5\n",
      "Data columns (total 4 columns):\n",
      " #   Column  Non-Null Count  Dtype  \n",
      "---  ------  --------------  -----  \n",
      " 0   A열      4 non-null      float64\n",
      " 1   B열      5 non-null      object \n",
      " 2   C열      3 non-null      float64\n",
      " 3   D열      6 non-null      int64  \n",
      "dtypes: float64(2), int64(1), object(1)\n",
      "memory usage: 320.0+ bytes\n"
     ]
    }
   ],
   "source": [
    "# info() 데이터 프레임 정보 확인 index : 인덱스 버위, count 값으로 결측값 유무 확인\n",
    "missing_data.info()"
   ]
  },
  {
   "cell_type": "code",
   "execution_count": 37,
   "id": "246e899b",
   "metadata": {},
   "outputs": [
    {
     "data": {
      "text/html": [
       "<div>\n",
       "<style scoped>\n",
       "    .dataframe tbody tr th:only-of-type {\n",
       "        vertical-align: middle;\n",
       "    }\n",
       "\n",
       "    .dataframe tbody tr th {\n",
       "        vertical-align: top;\n",
       "    }\n",
       "\n",
       "    .dataframe thead th {\n",
       "        text-align: right;\n",
       "    }\n",
       "</style>\n",
       "<table border=\"1\" class=\"dataframe\">\n",
       "  <thead>\n",
       "    <tr style=\"text-align: right;\">\n",
       "      <th></th>\n",
       "      <th>A열</th>\n",
       "      <th>B열</th>\n",
       "      <th>C열</th>\n",
       "      <th>D열</th>\n",
       "    </tr>\n",
       "  </thead>\n",
       "  <tbody>\n",
       "    <tr>\n",
       "      <th>0</th>\n",
       "      <td>True</td>\n",
       "      <td>False</td>\n",
       "      <td>True</td>\n",
       "      <td>False</td>\n",
       "    </tr>\n",
       "    <tr>\n",
       "      <th>1</th>\n",
       "      <td>False</td>\n",
       "      <td>False</td>\n",
       "      <td>False</td>\n",
       "      <td>False</td>\n",
       "    </tr>\n",
       "    <tr>\n",
       "      <th>2</th>\n",
       "      <td>False</td>\n",
       "      <td>True</td>\n",
       "      <td>False</td>\n",
       "      <td>False</td>\n",
       "    </tr>\n",
       "    <tr>\n",
       "      <th>3</th>\n",
       "      <td>False</td>\n",
       "      <td>False</td>\n",
       "      <td>True</td>\n",
       "      <td>False</td>\n",
       "    </tr>\n",
       "    <tr>\n",
       "      <th>4</th>\n",
       "      <td>False</td>\n",
       "      <td>False</td>\n",
       "      <td>False</td>\n",
       "      <td>False</td>\n",
       "    </tr>\n",
       "    <tr>\n",
       "      <th>5</th>\n",
       "      <td>True</td>\n",
       "      <td>False</td>\n",
       "      <td>True</td>\n",
       "      <td>False</td>\n",
       "    </tr>\n",
       "  </tbody>\n",
       "</table>\n",
       "</div>"
      ],
      "text/plain": [
       "      A열     B열     C열     D열\n",
       "0   True  False   True  False\n",
       "1  False  False  False  False\n",
       "2  False   True  False  False\n",
       "3  False  False   True  False\n",
       "4  False  False  False  False\n",
       "5   True  False   True  False"
      ]
     },
     "execution_count": 37,
     "metadata": {},
     "output_type": "execute_result"
    }
   ],
   "source": [
    "# isnull, isnull(df) 함수 이용, 결측값 확인\n",
    "missing_data.isnull() # true이면 결측값, false 이면 결측값 아님"
   ]
  },
  {
   "cell_type": "code",
   "execution_count": 38,
   "id": "1d109f43",
   "metadata": {},
   "outputs": [
    {
     "data": {
      "text/plain": [
       "A열    2\n",
       "B열    1\n",
       "C열    3\n",
       "D열    0\n",
       "dtype: int64"
      ]
     },
     "execution_count": 38,
     "metadata": {},
     "output_type": "execute_result"
    }
   ],
   "source": [
    "# 결측값 갯수 확인\n",
    "missing_data.isnull().sum()"
   ]
  },
  {
   "cell_type": "code",
   "execution_count": 39,
   "id": "2ec46af2",
   "metadata": {},
   "outputs": [
    {
     "name": "stdout",
     "output_type": "stream",
     "text": [
      "2\n",
      "1\n",
      "3\n",
      "0\n"
     ]
    }
   ],
   "source": [
    "# 속성별 결측값 갯수 확인 'A열'의 결측값 갯수 확인\n",
    "print(missing_data['A열'].isnull().sum())\n",
    "print(missing_data['B열'].isnull().sum())\n",
    "print(missing_data['C열'].isnull().sum())\n",
    "print(missing_data['D열'].isnull().sum())"
   ]
  },
  {
   "cell_type": "code",
   "execution_count": 40,
   "id": "6a22706e",
   "metadata": {},
   "outputs": [
    {
     "data": {
      "text/plain": [
       "<AxesSubplot:>"
      ]
     },
     "execution_count": 40,
     "metadata": {},
     "output_type": "execute_result"
    },
    {
     "data": {
      "image/png": "[encoded data removed]",
      "text/plain": [
       "<Figure size 720x360 with 1 Axes>"
      ]
     },
     "metadata": {},
     "output_type": "display_data"
    }
   ],
   "source": [
    "# 결측값 시각화 : 결측값이 많은 속성 순으로 정렬\n",
    "missing_data.isnull().sum().sort_values().plot.barh(figsize = (10, 5))"
   ]
  },
  {
   "cell_type": "code",
   "execution_count": 41,
   "id": "22c478fc",
   "metadata": {},
   "outputs": [
    {
     "data": {
      "text/html": [
       "<div>\n",
       "<style scoped>\n",
       "    .dataframe tbody tr th:only-of-type {\n",
       "        vertical-align: middle;\n",
       "    }\n",
       "\n",
       "    .dataframe tbody tr th {\n",
       "        vertical-align: top;\n",
       "    }\n",
       "\n",
       "    .dataframe thead th {\n",
       "        text-align: right;\n",
       "    }\n",
       "</style>\n",
       "<table border=\"1\" class=\"dataframe\">\n",
       "  <thead>\n",
       "    <tr style=\"text-align: right;\">\n",
       "      <th></th>\n",
       "      <th>A열</th>\n",
       "      <th>B열</th>\n",
       "      <th>C열</th>\n",
       "      <th>D열</th>\n",
       "    </tr>\n",
       "  </thead>\n",
       "  <tbody>\n",
       "    <tr>\n",
       "      <th>1</th>\n",
       "      <td>4.0</td>\n",
       "      <td>a</td>\n",
       "      <td>3.5</td>\n",
       "      <td>0</td>\n",
       "    </tr>\n",
       "    <tr>\n",
       "      <th>4</th>\n",
       "      <td>5.0</td>\n",
       "      <td>b</td>\n",
       "      <td>5.5</td>\n",
       "      <td>1</td>\n",
       "    </tr>\n",
       "  </tbody>\n",
       "</table>\n",
       "</div>"
      ],
      "text/plain": [
       "    A열 B열   C열  D열\n",
       "1  4.0  a  3.5   0\n",
       "4  5.0  b  5.5   1"
      ]
     },
     "execution_count": 41,
     "metadata": {},
     "output_type": "execute_result"
    }
   ],
   "source": [
    "# 결측값이 들어가 있는 행 제거, 결측값이 하나만 있어도 삭제\n",
    "missing_data.dropna(axis = 0)"
   ]
  },
  {
   "cell_type": "code",
   "execution_count": 42,
   "id": "f603585f",
   "metadata": {},
   "outputs": [
    {
     "data": {
      "text/html": [
       "<div>\n",
       "<style scoped>\n",
       "    .dataframe tbody tr th:only-of-type {\n",
       "        vertical-align: middle;\n",
       "    }\n",
       "\n",
       "    .dataframe tbody tr th {\n",
       "        vertical-align: top;\n",
       "    }\n",
       "\n",
       "    .dataframe thead th {\n",
       "        text-align: right;\n",
       "    }\n",
       "</style>\n",
       "<table border=\"1\" class=\"dataframe\">\n",
       "  <thead>\n",
       "    <tr style=\"text-align: right;\">\n",
       "      <th></th>\n",
       "      <th>D열</th>\n",
       "    </tr>\n",
       "  </thead>\n",
       "  <tbody>\n",
       "    <tr>\n",
       "      <th>0</th>\n",
       "      <td>1</td>\n",
       "    </tr>\n",
       "    <tr>\n",
       "      <th>1</th>\n",
       "      <td>0</td>\n",
       "    </tr>\n",
       "    <tr>\n",
       "      <th>2</th>\n",
       "      <td>1</td>\n",
       "    </tr>\n",
       "    <tr>\n",
       "      <th>3</th>\n",
       "      <td>0</td>\n",
       "    </tr>\n",
       "    <tr>\n",
       "      <th>4</th>\n",
       "      <td>1</td>\n",
       "    </tr>\n",
       "    <tr>\n",
       "      <th>5</th>\n",
       "      <td>1</td>\n",
       "    </tr>\n",
       "  </tbody>\n",
       "</table>\n",
       "</div>"
      ],
      "text/plain": [
       "   D열\n",
       "0   1\n",
       "1   0\n",
       "2   1\n",
       "3   0\n",
       "4   1\n",
       "5   1"
      ]
     },
     "execution_count": 42,
     "metadata": {},
     "output_type": "execute_result"
    }
   ],
   "source": [
    "missing_data.dropna(axis = 1)"
   ]
  },
  {
   "cell_type": "code",
   "execution_count": 43,
   "id": "29903372",
   "metadata": {},
   "outputs": [
    {
     "data": {
      "text/html": [
       "<div>\n",
       "<style scoped>\n",
       "    .dataframe tbody tr th:only-of-type {\n",
       "        vertical-align: middle;\n",
       "    }\n",
       "\n",
       "    .dataframe tbody tr th {\n",
       "        vertical-align: top;\n",
       "    }\n",
       "\n",
       "    .dataframe thead th {\n",
       "        text-align: right;\n",
       "    }\n",
       "</style>\n",
       "<table border=\"1\" class=\"dataframe\">\n",
       "  <thead>\n",
       "    <tr style=\"text-align: right;\">\n",
       "      <th></th>\n",
       "      <th>B열</th>\n",
       "      <th>D열</th>\n",
       "    </tr>\n",
       "  </thead>\n",
       "  <tbody>\n",
       "    <tr>\n",
       "      <th>0</th>\n",
       "      <td>a</td>\n",
       "      <td>1</td>\n",
       "    </tr>\n",
       "    <tr>\n",
       "      <th>1</th>\n",
       "      <td>a</td>\n",
       "      <td>0</td>\n",
       "    </tr>\n",
       "    <tr>\n",
       "      <th>2</th>\n",
       "      <td>NaN</td>\n",
       "      <td>1</td>\n",
       "    </tr>\n",
       "    <tr>\n",
       "      <th>3</th>\n",
       "      <td>b</td>\n",
       "      <td>0</td>\n",
       "    </tr>\n",
       "    <tr>\n",
       "      <th>4</th>\n",
       "      <td>b</td>\n",
       "      <td>1</td>\n",
       "    </tr>\n",
       "    <tr>\n",
       "      <th>5</th>\n",
       "      <td>b</td>\n",
       "      <td>1</td>\n",
       "    </tr>\n",
       "  </tbody>\n",
       "</table>\n",
       "</div>"
      ],
      "text/plain": [
       "    B열  D열\n",
       "0    a   1\n",
       "1    a   0\n",
       "2  NaN   1\n",
       "3    b   0\n",
       "4    b   1\n",
       "5    b   1"
      ]
     },
     "execution_count": 43,
     "metadata": {},
     "output_type": "execute_result"
    }
   ],
   "source": [
    "# thresh 파라미터 이용, 결측값의 갯수가 n개 미만 존재하는 경우 결측값 삭제\n",
    "missing_data.dropna(thresh = 5, axis = 1) # 결측값 제외 후 5개 미만인 열은 A,C열"
   ]
  },
  {
   "cell_type": "code",
   "execution_count": 44,
   "id": "89f465bc",
   "metadata": {},
   "outputs": [
    {
     "data": {
      "text/html": [
       "<div>\n",
       "<style scoped>\n",
       "    .dataframe tbody tr th:only-of-type {\n",
       "        vertical-align: middle;\n",
       "    }\n",
       "\n",
       "    .dataframe tbody tr th {\n",
       "        vertical-align: top;\n",
       "    }\n",
       "\n",
       "    .dataframe thead th {\n",
       "        text-align: right;\n",
       "    }\n",
       "</style>\n",
       "<table border=\"1\" class=\"dataframe\">\n",
       "  <thead>\n",
       "    <tr style=\"text-align: right;\">\n",
       "      <th></th>\n",
       "      <th>A열</th>\n",
       "      <th>B열</th>\n",
       "      <th>C열</th>\n",
       "      <th>D열</th>\n",
       "    </tr>\n",
       "  </thead>\n",
       "  <tbody>\n",
       "    <tr>\n",
       "      <th>0</th>\n",
       "      <td>NaN</td>\n",
       "      <td>a</td>\n",
       "      <td>NaN</td>\n",
       "      <td>1</td>\n",
       "    </tr>\n",
       "    <tr>\n",
       "      <th>1</th>\n",
       "      <td>4.0</td>\n",
       "      <td>a</td>\n",
       "      <td>3.5</td>\n",
       "      <td>0</td>\n",
       "    </tr>\n",
       "    <tr>\n",
       "      <th>3</th>\n",
       "      <td>5.0</td>\n",
       "      <td>b</td>\n",
       "      <td>NaN</td>\n",
       "      <td>0</td>\n",
       "    </tr>\n",
       "    <tr>\n",
       "      <th>4</th>\n",
       "      <td>5.0</td>\n",
       "      <td>b</td>\n",
       "      <td>5.5</td>\n",
       "      <td>1</td>\n",
       "    </tr>\n",
       "    <tr>\n",
       "      <th>5</th>\n",
       "      <td>NaN</td>\n",
       "      <td>b</td>\n",
       "      <td>NaN</td>\n",
       "      <td>1</td>\n",
       "    </tr>\n",
       "  </tbody>\n",
       "</table>\n",
       "</div>"
      ],
      "text/plain": [
       "    A열 B열   C열  D열\n",
       "0  NaN  a  NaN   1\n",
       "1  4.0  a  3.5   0\n",
       "3  5.0  b  NaN   0\n",
       "4  5.0  b  5.5   1\n",
       "5  NaN  b  NaN   1"
      ]
     },
     "execution_count": 44,
     "metadata": {},
     "output_type": "execute_result"
    }
   ],
   "source": [
    "# 특정 열을 대상으로 결측값이 존재하는 raw 제거\n",
    "missing_data[missing_data['B열'].notnull()]"
   ]
  },
  {
   "cell_type": "code",
   "execution_count": 45,
   "id": "ddabbff1",
   "metadata": {},
   "outputs": [
    {
     "data": {
      "text/html": [
       "<div>\n",
       "<style scoped>\n",
       "    .dataframe tbody tr th:only-of-type {\n",
       "        vertical-align: middle;\n",
       "    }\n",
       "\n",
       "    .dataframe tbody tr th {\n",
       "        vertical-align: top;\n",
       "    }\n",
       "\n",
       "    .dataframe thead th {\n",
       "        text-align: right;\n",
       "    }\n",
       "</style>\n",
       "<table border=\"1\" class=\"dataframe\">\n",
       "  <thead>\n",
       "    <tr style=\"text-align: right;\">\n",
       "      <th></th>\n",
       "      <th>A열</th>\n",
       "      <th>B열</th>\n",
       "      <th>C열</th>\n",
       "      <th>D열</th>\n",
       "    </tr>\n",
       "  </thead>\n",
       "  <tbody>\n",
       "    <tr>\n",
       "      <th>0</th>\n",
       "      <td>NaN</td>\n",
       "      <td>a</td>\n",
       "      <td>NaN</td>\n",
       "      <td>1</td>\n",
       "    </tr>\n",
       "    <tr>\n",
       "      <th>1</th>\n",
       "      <td>4.0</td>\n",
       "      <td>a</td>\n",
       "      <td>3.5</td>\n",
       "      <td>0</td>\n",
       "    </tr>\n",
       "    <tr>\n",
       "      <th>2</th>\n",
       "      <td>6.0</td>\n",
       "      <td>NaN</td>\n",
       "      <td>-1.5</td>\n",
       "      <td>1</td>\n",
       "    </tr>\n",
       "    <tr>\n",
       "      <th>3</th>\n",
       "      <td>5.0</td>\n",
       "      <td>b</td>\n",
       "      <td>NaN</td>\n",
       "      <td>0</td>\n",
       "    </tr>\n",
       "    <tr>\n",
       "      <th>4</th>\n",
       "      <td>5.0</td>\n",
       "      <td>b</td>\n",
       "      <td>5.5</td>\n",
       "      <td>1</td>\n",
       "    </tr>\n",
       "    <tr>\n",
       "      <th>5</th>\n",
       "      <td>NaN</td>\n",
       "      <td>b</td>\n",
       "      <td>NaN</td>\n",
       "      <td>1</td>\n",
       "    </tr>\n",
       "  </tbody>\n",
       "</table>\n",
       "</div>"
      ],
      "text/plain": [
       "    A열   B열   C열  D열\n",
       "0  NaN    a  NaN   1\n",
       "1  4.0    a  3.5   0\n",
       "2  6.0  NaN -1.5   1\n",
       "3  5.0    b  NaN   0\n",
       "4  5.0    b  5.5   1\n",
       "5  NaN    b  NaN   1"
      ]
     },
     "execution_count": 45,
     "metadata": {},
     "output_type": "execute_result"
    }
   ],
   "source": [
    "# 결측값 확인\n",
    "missing_data"
   ]
  },
  {
   "cell_type": "code",
   "execution_count": 46,
   "id": "9c295724",
   "metadata": {},
   "outputs": [
    {
     "data": {
      "text/plain": [
       "0    0.0\n",
       "1    4.0\n",
       "2    6.0\n",
       "3    5.0\n",
       "4    5.0\n",
       "5    0.0\n",
       "Name: A열, dtype: float64"
      ]
     },
     "execution_count": 46,
     "metadata": {},
     "output_type": "execute_result"
    }
   ],
   "source": [
    "## 특정값으로 채우기: 0으로 채우기\n",
    "missing_data[\"A열\"].fillna(0)\n",
    "#missing_data[\"A열\"] = missing_data[\"A열\"].fillna(0)"
   ]
  },
  {
   "cell_type": "code",
   "execution_count": 47,
   "id": "c040a9e9",
   "metadata": {},
   "outputs": [
    {
     "data": {
      "text/plain": [
       "0    a\n",
       "1    a\n",
       "2    a\n",
       "3    b\n",
       "4    b\n",
       "5    b\n",
       "Name: B열, dtype: object"
      ]
     },
     "execution_count": 47,
     "metadata": {},
     "output_type": "execute_result"
    }
   ],
   "source": [
    "## 이전 값으로 채우기\n",
    "missing_data[\"B열\"].fillna(method = \"ffill\")"
   ]
  },
  {
   "cell_type": "code",
   "execution_count": 48,
   "id": "5463eb6e",
   "metadata": {},
   "outputs": [
    {
     "data": {
      "text/plain": [
       "<bound method NDFrame.head of 0    3.5\n",
       "1    3.5\n",
       "2   -1.5\n",
       "3    5.5\n",
       "4    5.5\n",
       "5    NaN\n",
       "Name: C열, dtype: float64>"
      ]
     },
     "execution_count": 48,
     "metadata": {},
     "output_type": "execute_result"
    }
   ],
   "source": [
    "## 이후 값으로 채우기\n",
    "missing_data[\"C열\"].fillna(method = \"bfill\").head"
   ]
  },
  {
   "cell_type": "code",
   "execution_count": 49,
   "id": "052883a8",
   "metadata": {},
   "outputs": [
    {
     "name": "stderr",
     "output_type": "stream",
     "text": [
      "C:\\Users\\user\\AppData\\Local\\Temp\\ipykernel_5520\\1852711688.py:2: FutureWarning: Dropping of nuisance columns in DataFrame reductions (with 'numeric_only=None') is deprecated; in a future version this will raise TypeError.  Select only valid columns before calling the reduction.\n",
      "  missing_data.fillna(missing_data.mean())\n"
     ]
    },
    {
     "data": {
      "text/html": [
       "<div>\n",
       "<style scoped>\n",
       "    .dataframe tbody tr th:only-of-type {\n",
       "        vertical-align: middle;\n",
       "    }\n",
       "\n",
       "    .dataframe tbody tr th {\n",
       "        vertical-align: top;\n",
       "    }\n",
       "\n",
       "    .dataframe thead th {\n",
       "        text-align: right;\n",
       "    }\n",
       "</style>\n",
       "<table border=\"1\" class=\"dataframe\">\n",
       "  <thead>\n",
       "    <tr style=\"text-align: right;\">\n",
       "      <th></th>\n",
       "      <th>A열</th>\n",
       "      <th>B열</th>\n",
       "      <th>C열</th>\n",
       "      <th>D열</th>\n",
       "    </tr>\n",
       "  </thead>\n",
       "  <tbody>\n",
       "    <tr>\n",
       "      <th>0</th>\n",
       "      <td>5.0</td>\n",
       "      <td>a</td>\n",
       "      <td>2.5</td>\n",
       "      <td>1</td>\n",
       "    </tr>\n",
       "    <tr>\n",
       "      <th>1</th>\n",
       "      <td>4.0</td>\n",
       "      <td>a</td>\n",
       "      <td>3.5</td>\n",
       "      <td>0</td>\n",
       "    </tr>\n",
       "    <tr>\n",
       "      <th>2</th>\n",
       "      <td>6.0</td>\n",
       "      <td>NaN</td>\n",
       "      <td>-1.5</td>\n",
       "      <td>1</td>\n",
       "    </tr>\n",
       "    <tr>\n",
       "      <th>3</th>\n",
       "      <td>5.0</td>\n",
       "      <td>b</td>\n",
       "      <td>2.5</td>\n",
       "      <td>0</td>\n",
       "    </tr>\n",
       "    <tr>\n",
       "      <th>4</th>\n",
       "      <td>5.0</td>\n",
       "      <td>b</td>\n",
       "      <td>5.5</td>\n",
       "      <td>1</td>\n",
       "    </tr>\n",
       "    <tr>\n",
       "      <th>5</th>\n",
       "      <td>5.0</td>\n",
       "      <td>b</td>\n",
       "      <td>2.5</td>\n",
       "      <td>1</td>\n",
       "    </tr>\n",
       "  </tbody>\n",
       "</table>\n",
       "</div>"
      ],
      "text/plain": [
       "    A열   B열   C열  D열\n",
       "0  5.0    a  2.5   1\n",
       "1  4.0    a  3.5   0\n",
       "2  6.0  NaN -1.5   1\n",
       "3  5.0    b  2.5   0\n",
       "4  5.0    b  5.5   1\n",
       "5  5.0    b  2.5   1"
      ]
     },
     "execution_count": 49,
     "metadata": {},
     "output_type": "execute_result"
    }
   ],
   "source": [
    "# 결측값을 속성별 평균으로 대체하기\n",
    "missing_data.fillna(missing_data.mean())\n",
    "# missing_data.where(pd.notnull(missing_data), missing_data.min(), axis = 'columns')"
   ]
  },
  {
   "cell_type": "code",
   "execution_count": 50,
   "id": "815bf325",
   "metadata": {},
   "outputs": [],
   "source": [
    "# 데이터 준비, 앞서 확인한 missing_data를 copy해서 활용\n",
    "df = missing_data.copy()\n",
    "\n",
    "#SimpleImputer 생성\n",
    "imputer = SimpleImputer(strategy = \"most_frequent\") # 최빈값으로 대체\n",
    "#strategy(most_frequent : 최빈값, mean: 평균값, median: 중앙값)"
   ]
  },
  {
   "cell_type": "code",
   "execution_count": 51,
   "id": "37697a02",
   "metadata": {},
   "outputs": [],
   "source": [
    "# A열의 최빈값을 결측값에 대체\n",
    "df[\"A열\"] = imputer.fit_transform(missing_data[[\"A열\"]])"
   ]
  },
  {
   "cell_type": "code",
   "execution_count": null,
   "id": "6dd04855",
   "metadata": {},
   "outputs": [
    {
     "data": {
      "text/html": [
       "<div>\n",
       "<style scoped>\n",
       "    .dataframe tbody tr th:only-of-type {\n",
       "        vertical-align: middle;\n",
       "    }\n",
       "\n",
       "    .dataframe tbody tr th {\n",
       "        vertical-align: top;\n",
       "    }\n",
       "\n",
       "    .dataframe thead th {\n",
       "        text-align: right;\n",
       "    }\n",
       "</style>\n",
       "<table border=\"1\" class=\"dataframe\">\n",
       "  <thead>\n",
       "    <tr style=\"text-align: right;\">\n",
       "      <th></th>\n",
       "      <th>A열</th>\n",
       "      <th>B열</th>\n",
       "      <th>C열</th>\n",
       "      <th>D열</th>\n",
       "    </tr>\n",
       "  </thead>\n",
       "  <tbody>\n",
       "    <tr>\n",
       "      <th>0</th>\n",
       "      <td>5.0</td>\n",
       "      <td>a</td>\n",
       "      <td>NaN</td>\n",
       "      <td>1</td>\n",
       "    </tr>\n",
       "    <tr>\n",
       "      <th>1</th>\n",
       "      <td>4.0</td>\n",
       "      <td>a</td>\n",
       "      <td>3.5</td>\n",
       "      <td>0</td>\n",
       "    </tr>\n",
       "    <tr>\n",
       "      <th>2</th>\n",
       "      <td>6.0</td>\n",
       "      <td>NaN</td>\n",
       "      <td>-1.5</td>\n",
       "      <td>1</td>\n",
       "    </tr>\n",
       "    <tr>\n",
       "      <th>3</th>\n",
       "      <td>5.0</td>\n",
       "      <td>b</td>\n",
       "      <td>NaN</td>\n",
       "      <td>0</td>\n",
       "    </tr>\n",
       "    <tr>\n",
       "      <th>4</th>\n",
       "      <td>5.0</td>\n",
       "      <td>b</td>\n",
       "      <td>5.5</td>\n",
       "      <td>1</td>\n",
       "    </tr>\n",
       "    <tr>\n",
       "      <th>5</th>\n",
       "      <td>5.0</td>\n",
       "      <td>b</td>\n",
       "      <td>NaN</td>\n",
       "      <td>1</td>\n",
       "    </tr>\n",
       "  </tbody>\n",
       "</table>\n",
       "</div>"
      ],
      "text/plain": [
       "    A열   B열   C열  D열\n",
       "0  5.0    a  NaN   1\n",
       "1  4.0    a  3.5   0\n",
       "2  6.0  NaN -1.5   1\n",
       "3  5.0    b  NaN   0\n",
       "4  5.0    b  5.5   1\n",
       "5  5.0    b  NaN   1"
      ]
     },
     "execution_count": 52,
     "metadata": {},
     "output_type": "execute_result"
    }
   ],
   "source": [
    "df"
   ]
  },
  {
   "cell_type": "code",
   "execution_count": null,
   "id": "5ab30b41",
   "metadata": {},
   "outputs": [],
   "source": [
    "# 나머지 열의 결측값을 최빈값으로 대체\n",
    "df = pd.DataFrame(imputer.fit_transform(df), columns = df.columns)\n",
    "df"
   ]
  },
  {
   "cell_type": "code",
   "execution_count": null,
   "id": "b132c79b",
   "metadata": {},
   "outputs": [],
   "source": [
    "# 실습 데이터 로드\n",
    "data = pd.read_csv(\"http://archive.ics.uci.edu/ml/machine-learning-databases/abalone/abalone.data\",\n",
    "                  header = None,\n",
    "                  names = ['sex', 'length', 'diameter', 'height',\n",
    "                          'whole_weight', 'shucked_weight', \n",
    "                          'viscera_weight', 'shell_weight', 'rings'])\n",
    "\n",
    "# 20 개의 테스트 데이터만 저장\n",
    "df_missing = data.copy()[:20]"
   ]
  },
  {
   "cell_type": "code",
   "execution_count": null,
   "id": "07884cd4",
   "metadata": {},
   "outputs": [],
   "source": [
    "# 결측값 데이터 생성\n",
    "df_missing.loc[0:4, 'whole_weight'] = np.nan"
   ]
  },
  {
   "cell_type": "code",
   "execution_count": null,
   "id": "0e86ff5d",
   "metadata": {},
   "outputs": [],
   "source": [
    "df_missing.head(10)"
   ]
  },
  {
   "cell_type": "code",
   "execution_count": null,
   "id": "03fcb300",
   "metadata": {},
   "outputs": [],
   "source": [
    "# 학습 데이터 생성: X, Y에 결측값 삭제\n",
    "X = df_missing.dropna(axis = 0)[['diameter', 'height', 'shell_weight']]\n",
    "Y = df_missing.dropna(axis = 0)['whole_weight']"
   ]
  },
  {
   "cell_type": "code",
   "execution_count": null,
   "id": "c62c8aab",
   "metadata": {},
   "outputs": [],
   "source": [
    "X.head()"
   ]
  },
  {
   "cell_type": "code",
   "execution_count": null,
   "id": "5163ac67",
   "metadata": {},
   "outputs": [],
   "source": [
    "Y.head()"
   ]
  },
  {
   "cell_type": "code",
   "execution_count": null,
   "id": "6e69b01c",
   "metadata": {},
   "outputs": [],
   "source": [
    "# 선형 회귀 모델 생성\n",
    "lin_reg = linear_model.LinearRegression()\n",
    "\n",
    "# 선형 회귀 모형 구성\n",
    "lin_reg_model = lin_reg.fit(X, Y)\n",
    "\n",
    "# 선형 회귀 모델로 'whole_weight' 추정값 계산\n",
    "y_pred = lin_reg_model.predict(df_missing.loc[:, ['diameter', 'height', 'shell_weight']])\n",
    "\n",
    "y_pred"
   ]
  },
  {
   "cell_type": "code",
   "execution_count": null,
   "id": "a531652f",
   "metadata": {
    "scrolled": false
   },
   "outputs": [],
   "source": [
    "## 선형 회귀 모델의 예측값을 결측값에 대체\n",
    "\n",
    "## fillna() 함수 이용\n",
    "# flatten(): numpy에서 제공하는 다차원 배열 공간을 1차원으로 평탄화해주는 함수\n",
    "df_missing['whole_weight'].fillna(pd.Series(y_pred.flatten()), inplace = True)\n",
    "\n",
    "## 결과 확인\n",
    "df_missing"
   ]
  },
  {
   "cell_type": "markdown",
   "id": "339705e5",
   "metadata": {},
   "source": [
    "# 데이터 이상값 처리"
   ]
  },
  {
   "cell_type": "code",
   "execution_count": null,
   "id": "827e493a",
   "metadata": {},
   "outputs": [],
   "source": [
    "import random # 의사 난수 생성\n",
    "import pandas as pd # pandas package\n",
    "import numpy as np # numpy package : np.nan 이용 결측값 생성\n",
    "import scipy.stats as stats\n",
    "import matplotlib.pyplot as plt # matplotlib 시각화 패키지\n",
    "%matplotlib inline\n",
    "import seaborn as sns # seaborn 시각화 패키지\n",
    "\n",
    "# OS에 따른 Font 깨짐 제거를 위해 Font 지정\n",
    "import os\n",
    "if os.name == 'nt': # Window OS\n",
    "    font_family = \"Malgun Gothic\"\n",
    "else: # MAC OS\n",
    "    font_family = \"appleGothic\"\n",
    "    \n",
    "# - 값이 개지는 문제 해결을 위해 파라미터 값 설정\n",
    "sns.set(font = font_family, rc = {\"axes.unicode_minus\" : False})"
   ]
  },
  {
   "cell_type": "code",
   "execution_count": null,
   "id": "90e6a61f",
   "metadata": {},
   "outputs": [],
   "source": [
    "# 3000 개의 랜덤 데이터 생성\n",
    "np_data = np.random.randint(1, 100, size = 3000)\n",
    "data = list(np_data)"
   ]
  },
  {
   "cell_type": "code",
   "execution_count": null,
   "id": "255c4120",
   "metadata": {},
   "outputs": [],
   "source": [
    "data[0:2]"
   ]
  },
  {
   "cell_type": "code",
   "execution_count": null,
   "id": "1f5970fa",
   "metadata": {},
   "outputs": [],
   "source": [
    "# 히스토그램으로 생성된 데이터 분포 확인\n",
    "plt.hist(data)\n",
    "plt.show()"
   ]
  },
  {
   "cell_type": "code",
   "execution_count": null,
   "id": "5d944ef3",
   "metadata": {},
   "outputs": [],
   "source": [
    "# 데이터의 정규분포 확인\n",
    "data_mean = np.mean(data)\n",
    "data_std = np.std(data)\n",
    "\n",
    "print(data_mean)\n",
    "print(data_std)\n",
    "\n",
    "# 확률 밀도 함수 생성\n",
    "pdf = stats.norm.pdf(np.sort(data), data_mean, data_std)\n",
    "\n",
    "plt.figure()\n",
    "plt.plot(np.sort(data), pdf)"
   ]
  },
  {
   "cell_type": "code",
   "execution_count": null,
   "id": "777b9eaa",
   "metadata": {},
   "outputs": [],
   "source": [
    "# 표준 정규 분포(Z분포)로 변환\n",
    "std_list = []\n",
    "\n",
    "for i in data:\n",
    "    z = (i-data_mean)/ data_std\n",
    "    std_list.append(z)\n",
    "    \n",
    "ol_data_mean = np.mean(std_list)\n",
    "ol_data_std = np.std(std_list)\n",
    "\n",
    "print(ol_data_mean)\n",
    "print(ol_data_std)\n",
    "\n",
    "ol_pdf = stats.norm.pdf(np.sort(std_list), ol_data_mean, ol_data_std)\n",
    "\n",
    "plt.figure()\n",
    "plt.plot(np.sort(std_list), ol_pdf)"
   ]
  },
  {
   "cell_type": "code",
   "execution_count": null,
   "id": "414b45d6",
   "metadata": {},
   "outputs": [],
   "source": [
    "# 이상값 추가\n",
    "ol_data = data.copy()\n",
    "ol_no = 10\n",
    "\n",
    "for i in range(ol_no):\n",
    "    rand_no = random.randint(0, len(data))\n",
    "    ol_data.insert(rand_no, ol_data[rand_no]*2) # 이상값 생성\n",
    "    \n",
    "# 이상값이 추가된 데이터의 정규분포도\n",
    "ol_data_mean = np.mean(ol_data)\n",
    "ol_data_std = np.std(ol_data)\n",
    "\n",
    "print(ol_data_mean)\n",
    "print(ol_data_std)\n",
    "\n",
    "ol_pdf = stats.norm.pdf(np.sort(ol_data), ol_data_mean, ol_data_std)\n",
    "\n",
    "plt.figure()\n",
    "plt.plot(np.sort(ol_data), ol_pdf)"
   ]
  },
  {
   "cell_type": "code",
   "execution_count": null,
   "id": "0e8d7517",
   "metadata": {},
   "outputs": [],
   "source": [
    "# 이상값 추가된 데이터의 표준화\n",
    "ol_std_list = []\n",
    "\n",
    "for i in ol_data:\n",
    "    z = (i-ol_data_mean)/ol_data_std\n",
    "    ol_std_list.append(z)\n",
    "    \n",
    "ol_st_data_mean = np.mean(ol_std_list)\n",
    "ol_st_data_std = np.std(ol_std_list)\n",
    "\n",
    "print(ol_st_data_mean)\n",
    "print(ol_st_data_std)\n",
    "\n",
    "ol_std_pdf = stats.norm.pdf(np.sort(ol_std_list), ol_st_data_mean, ol_st_data_std)\n",
    "\n",
    "plt.figure()\n",
    "plt.plot(np.sort(ol_std_list), ol_std_pdf)"
   ]
  },
  {
   "cell_type": "code",
   "execution_count": null,
   "id": "ca90f2cd",
   "metadata": {},
   "outputs": [],
   "source": [
    "# 전체 라인 수 확인\n",
    "len(ol_std_list)"
   ]
  },
  {
   "cell_type": "code",
   "execution_count": null,
   "id": "bdc1a6a7",
   "metadata": {},
   "outputs": [],
   "source": [
    "# -2 ~ 2 범위 벗어나면 이상값으로 제거\n",
    " \n",
    "for i in ol_std_list:\n",
    "    z = i\n",
    "    if(z > 2):\n",
    "        ol_std_list.remove(z)\n",
    "        \n",
    "    if(z <-2) :\n",
    "        ol_std_list.remove(z)"
   ]
  },
  {
   "cell_type": "code",
   "execution_count": null,
   "id": "6a042b47",
   "metadata": {},
   "outputs": [],
   "source": [
    "# 이상 값 제거 후 라인 수\n",
    "len(ol_std_list)"
   ]
  },
  {
   "cell_type": "code",
   "execution_count": null,
   "id": "47e9899a",
   "metadata": {},
   "outputs": [],
   "source": [
    "# 이상값 제거 후 표준 정규분포 확인\n",
    "ol_std_pdf = stats.norm.pdf(np.sort(ol_std_list), ol_st_data_mean, ol_st_data_std)\n",
    "\n",
    "plt.figure()\n",
    "plt.plot(np.sort(ol_std_list), ol_std_pdf)"
   ]
  },
  {
   "cell_type": "code",
   "execution_count": null,
   "id": "60c1c1af",
   "metadata": {},
   "outputs": [],
   "source": [
    "# 이상값 데이터 생성\n",
    "boxdata = pd.DataFrame(np.random.randn(100, 3), columns = [\"A열\", \"B열\", \"C열\"])"
   ]
  },
  {
   "cell_type": "code",
   "execution_count": null,
   "id": "432ca805",
   "metadata": {},
   "outputs": [],
   "source": [
    "boxdata.head()"
   ]
  },
  {
   "cell_type": "code",
   "execution_count": null,
   "id": "4727a6d6",
   "metadata": {},
   "outputs": [],
   "source": [
    "# 기술 통계 정보로 pencentile 확인\n",
    "boxdata.describe()"
   ]
  },
  {
   "cell_type": "code",
   "execution_count": null,
   "id": "5fd7308e",
   "metadata": {},
   "outputs": [],
   "source": [
    "# 박스 플롯을 이용한 이상값 확인\n",
    "sns.boxplot(data = boxdata)\n",
    "plt.show()"
   ]
  },
  {
   "cell_type": "code",
   "execution_count": null,
   "id": "9c088dcb",
   "metadata": {},
   "outputs": [],
   "source": [
    "# 이상값 계산하는 함수\n",
    "def get_outlier(df = None, column = None, weight = 1.5):\n",
    "    quantile_25 = np.percentile(df[column].values, 25)\n",
    "    quantile_75 = np.percentile(df[column].values, 75)\n",
    "    \n",
    "    IQR = quantile_75 - quantile_25\n",
    "    IQR_weight = IQR*weight\n",
    "    \n",
    "    lowest = quantile_25 - IQR_weight\n",
    "    highest = quantile_75 + IQR_weight\n",
    "    \n",
    "    outlier_idx = df[column][(df[column] < lowest)| (df[column] > highest) ].index\n",
    "    return outlier_idx"
   ]
  },
  {
   "cell_type": "code",
   "execution_count": null,
   "id": "71b1096b",
   "metadata": {},
   "outputs": [],
   "source": [
    "# 함수 사용해서 이상값 확인\n",
    "outlier_idx = get_outlier(df = boxdata, column = 'B열', weight = 1.5)"
   ]
  },
  {
   "cell_type": "code",
   "execution_count": null,
   "id": "4be11864",
   "metadata": {},
   "outputs": [],
   "source": [
    "outlier_idx"
   ]
  },
  {
   "cell_type": "code",
   "execution_count": null,
   "id": "89df70fb",
   "metadata": {},
   "outputs": [],
   "source": [
    "# 이상값 삭제\n",
    "boxdata.drop(outlier_idx, axis = 0, inplace = True)"
   ]
  },
  {
   "cell_type": "code",
   "execution_count": null,
   "id": "f5d0787a",
   "metadata": {},
   "outputs": [],
   "source": [
    "boxdata.shape"
   ]
  },
  {
   "cell_type": "code",
   "execution_count": null,
   "id": "55ee9e98",
   "metadata": {},
   "outputs": [],
   "source": [
    "# 박스 플롯을 이용한 이상값 확인\n",
    "sns.boxplot(data = boxdata)\n",
    "plt.show()"
   ]
  },
  {
   "cell_type": "code",
   "execution_count": null,
   "id": "779463c5",
   "metadata": {},
   "outputs": [],
   "source": [
    "# 함수 사용해서 이상값 확인\n",
    "outlier_idx = get_outlier(df = boxdata, column = 'A열', weight = 1.5)\n",
    "\n",
    "outlier_idx\n",
    "\n",
    "# 이상값 삭제\n",
    "boxdata.drop(outlier_idx, axis = 0, inplace = True)\n",
    "\n",
    "boxdata.shape\n",
    "\n",
    "# 박스 플롯을 이용한 이상값 확인\n",
    "sns.boxplot(data = boxdata)\n",
    "plt.show()"
   ]
  },
  {
   "cell_type": "code",
   "execution_count": null,
   "id": "e50bfce6",
   "metadata": {},
   "outputs": [],
   "source": [
    "boxdata.shape"
   ]
  },
  {
   "cell_type": "markdown",
   "id": "a01f301a",
   "metadata": {},
   "source": [
    "# 변수 선택"
   ]
  },
  {
   "cell_type": "code",
   "execution_count": null,
   "id": "1b07a0f5",
   "metadata": {},
   "outputs": [],
   "source": [
    "import pandas as pd # pandas package\n",
    "# import numpy as np # numpy package : np.nan 이용 결측값 생성\n",
    "# import scipy.stats as stats\n",
    "import matplotlib.pyplot as plt # matplotlib 시각화 패키지\n",
    "%matplotlib inline\n",
    "import seaborn as sns # seaborn 시각화 패키지\n",
    "\n",
    "# OS에 따른 Font 깨짐 제거를 위해 Font 지정\n",
    "import os\n",
    "if os.name == 'nt': # Window OS\n",
    "    font_family = \"Malgun Gothic\"\n",
    "else: # MAC OS\n",
    "    font_family = \"appleGothic\"\n",
    "    \n",
    "# - 값이 개지는 문제 해결을 위해 파라미터 값 설정\n",
    "sns.set(font = font_family, rc = {\"axes.unicode_minus\" : False})"
   ]
  },
  {
   "cell_type": "code",
   "execution_count": null,
   "id": "7cad2029",
   "metadata": {},
   "outputs": [],
   "source": [
    "# iris 붓꽃 데이터 로드\n",
    "from sklearn.datasets import load_iris\n",
    "iris = load_iris()\n",
    "# print(iris.DESCR) # 붓꽃 데이터 상세 정보"
   ]
  },
  {
   "cell_type": "code",
   "execution_count": null,
   "id": "c1d50072",
   "metadata": {},
   "outputs": [],
   "source": [
    "# 붓꽃 데이터 특성 확인\n",
    "iris.feature_names"
   ]
  },
  {
   "cell_type": "code",
   "execution_count": null,
   "id": "1d0d2509",
   "metadata": {},
   "outputs": [],
   "source": [
    "# 데이터 생성 및 준비\n",
    "df = pd.DataFrame(iris.data, columns = iris.feature_names)\n",
    "sy = pd.Series(iris.target, dtype = \"category\")\n",
    "sy = sy.cat.rename_categories(iris.target_names)\n",
    "df['species'] = sy\n",
    "\n",
    "# 필터명 정의\n",
    "cols = iris.feature_names\n",
    "df.tail()"
   ]
  },
  {
   "cell_type": "code",
   "execution_count": null,
   "id": "3dc141c0",
   "metadata": {},
   "outputs": [],
   "source": [
    "# Scikit-learn 의 VarianceThreshold 사용\n",
    "from sklearn.feature_selection import VarianceThreshold"
   ]
  },
  {
   "cell_type": "code",
   "execution_count": null,
   "id": "9c6773f1",
   "metadata": {},
   "outputs": [],
   "source": [
    "# 분산 스레스 홀더 생성\n",
    "selector = VarianceThreshold()\n",
    "\n",
    "#Threshold 설정 없이 분산 산출\n",
    "selector.fit(df[cols])\n",
    "\n",
    "print(selector.variances_)"
   ]
  },
  {
   "cell_type": "code",
   "execution_count": null,
   "id": "0a507574",
   "metadata": {},
   "outputs": [],
   "source": [
    "# threshold 설정\n",
    "selector.set_params(threshold = 0.6)\n",
    "\n",
    "# refit and transform\n",
    "v_sel = selector.fit_transform(df[cols])\n",
    "\n",
    "# 분산 확인\n",
    "print(selector.variances_)\n",
    "\n",
    "#분산이 임계치보다 낮은 feature확인(True: 높음, False : 낮음)\n",
    "print(selector.get_support())"
   ]
  },
  {
   "cell_type": "code",
   "execution_count": null,
   "id": "d9a416a7",
   "metadata": {},
   "outputs": [],
   "source": [
    "# 특성ㅇ 필터하여 데이터프레임에 저장\n",
    "iris_sel_df = df.iloc[:, [0,2]]\n",
    "iris_sel_df.head()"
   ]
  },
  {
   "cell_type": "code",
   "execution_count": null,
   "id": "35025b24",
   "metadata": {},
   "outputs": [],
   "source": [
    "# 결과 데이터프레임 생성\n",
    "iris_sel_df = pd.concat([iris_sel_df, df[['species']]], axis = 1)\n",
    "iris_sel_df.head()"
   ]
  },
  {
   "cell_type": "code",
   "execution_count": null,
   "id": "7e87275f",
   "metadata": {},
   "outputs": [],
   "source": [
    "# iris df 데이터프레임 확인\n",
    "df.describe()"
   ]
  },
  {
   "cell_type": "code",
   "execution_count": null,
   "id": "7e4b3c48",
   "metadata": {},
   "outputs": [],
   "source": [
    "# 상관계수 생성\n",
    "cor = df.corr()\n",
    "cor"
   ]
  },
  {
   "cell_type": "code",
   "execution_count": null,
   "id": "58e9643c",
   "metadata": {},
   "outputs": [],
   "source": [
    "# 히트맵으로 상관관계 가시화\n",
    "sns.heatmap(cor, annot = False, cmap = plt.cm.Blues)\n",
    "plt.show()"
   ]
  },
  {
   "cell_type": "code",
   "execution_count": null,
   "id": "8821f4eb",
   "metadata": {},
   "outputs": [],
   "source": [
    "# 'sepal length (cm)' 속성의 상관관계 정의\n",
    "cor_target = abs(cor['sepal length (cm)'])\n",
    "print(cor_target)"
   ]
  },
  {
   "cell_type": "code",
   "execution_count": null,
   "id": "89f63873",
   "metadata": {},
   "outputs": [],
   "source": [
    "# 상관관계가 0.6보다 큰 속성 확인\n",
    "cor_target[cor_target> 0.6]"
   ]
  },
  {
   "cell_type": "code",
   "execution_count": null,
   "id": "bf97978b",
   "metadata": {},
   "outputs": [],
   "source": [
    "# 상관관계가 0.6보다 큰 속성 확인\n",
    "selected_cols = cor_target[cor_target > 0.6]\n",
    "print(\"상관관계 계수 > 0.6인 속성\")\n",
    "print(selected_cols)"
   ]
  },
  {
   "cell_type": "code",
   "execution_count": null,
   "id": "13196e83",
   "metadata": {},
   "outputs": [],
   "source": [
    "selected_cols.index"
   ]
  },
  {
   "cell_type": "code",
   "execution_count": null,
   "id": "0ef153be",
   "metadata": {},
   "outputs": [],
   "source": [
    "df[selected_cols.index].head()"
   ]
  },
  {
   "cell_type": "code",
   "execution_count": null,
   "id": "79034d0e",
   "metadata": {},
   "outputs": [],
   "source": [
    "# 필터링된 속성을 df_cor_sel에 저장\n",
    "df_cor_sel = df[selected_cols.index]\n",
    "df_cor_sel.head()"
   ]
  },
  {
   "cell_type": "code",
   "execution_count": null,
   "id": "0445cc58",
   "metadata": {},
   "outputs": [],
   "source": []
  }
 ],
 "metadata": {
  "kernelspec": {
   "display_name": "Python 3 (ipykernel)",
   "language": "python",
   "name": "python3"
  },
  "language_info": {
   "codemirror_mode": {
    "name": "ipython",
    "version": 3
   },
   "file_extension": ".py",
   "mimetype": "text/x-python",
   "name": "python",
   "nbconvert_exporter": "python",
   "pygments_lexer": "ipython3",
   "version": "3.9.12"
  }
 },
 "nbformat": 4,
 "nbformat_minor": 5
}
