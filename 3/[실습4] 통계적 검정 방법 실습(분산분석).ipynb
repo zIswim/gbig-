{
 "cells": [
  {
   "cell_type": "markdown",
   "id": "ea3154aa",
   "metadata": {},
   "source": [
    "## 분산분석"
   ]
  },
  {
   "cell_type": "markdown",
   "id": "ce8f44ee",
   "metadata": {},
   "source": [
    "### 일원분산분석"
   ]
  },
  {
   "cell_type": "code",
   "execution_count": 1,
   "id": "2b764510",
   "metadata": {},
   "outputs": [],
   "source": [
    "# 패키지 임포트\n",
    "import os\n",
    "import warnings\n",
    "# FutureWarning 제거\n",
    "warnings.simplefilter(action = 'ignore', category = FutureWarning)\n",
    "\n",
    "import pandas as pd # pandas package\n",
    "import numpy as np # numpy package\n",
    "from scipy import stats # Scipy Package\n",
    "import math\n",
    "\n",
    "#시각화 패키지\n",
    "import matplotlib.pyplot as plt # matplotlib 시각화 패키지\n",
    "import seaborn as sns\n",
    "%matplotlib inline\n",
    "\n",
    "# os에 따른 Font 깨짐 제거를 위해 Font 지정\n",
    "import os\n",
    "if os.name == 'nt' : # Windows OS\n",
    "    font_family = \"Malgun Gothic\"\n",
    "else: # MAC OS\n",
    "    font_family = \"AppleGothic\"\n",
    "    \n",
    "# - 값이 깨지는 문제 해결을 위해 파라미터값 설정\n",
    "sns.set(font = font_family, rc = {\"axes.unicode_minus\" : False})"
   ]
  },
  {
   "cell_type": "code",
   "execution_count": 2,
   "id": "41ad5ea7",
   "metadata": {},
   "outputs": [
    {
     "name": "stdout",
     "output_type": "stream",
     "text": [
      "a 평균:  79.0\n",
      "b 평균:  65.375\n",
      "c 평균:  67.125\n",
      "d 평균:  69.5\n"
     ]
    }
   ],
   "source": [
    "# 데이터셋\n",
    "a = [66, 74, 82, 75, 73, 97, 87, 78]\n",
    "b = [72, 51, 59, 62, 74, 64, 78, 63]\n",
    "c = [61, 60, 57, 60, 81, 77, 70, 71]\n",
    "d = [63, 61, 76, 84, 58, 65, 69, 80]\n",
    "print(\"a 평균: \", np.mean(a))\n",
    "print(\"b 평균: \", np.mean(b))\n",
    "print(\"c 평균: \", np.mean(c))\n",
    "print(\"d 평균: \", np.mean(d))"
   ]
  },
  {
   "cell_type": "code",
   "execution_count": 3,
   "id": "74a4c2b0",
   "metadata": {},
   "outputs": [
    {
     "data": {
      "image/png": "[encoded data removed]",
      "text/plain": [
       "<Figure size 432x288 with 1 Axes>"
      ]
     },
     "metadata": {},
     "output_type": "display_data"
    }
   ],
   "source": [
    "# 이상값 확인\n",
    "plot_data = [a, b, c, d]\n",
    "plt.boxplot(plot_data)\n",
    "plt.xticks([1, 2, 3, 4], ['a', 'b', 'c', 'd'])\n",
    "plt.grid(True)\n",
    "plt.show()"
   ]
  },
  {
   "cell_type": "code",
   "execution_count": 4,
   "id": "da31d599",
   "metadata": {},
   "outputs": [
    {
     "data": {
      "text/html": [
       "<div>\n",
       "<style scoped>\n",
       "    .dataframe tbody tr th:only-of-type {\n",
       "        vertical-align: middle;\n",
       "    }\n",
       "\n",
       "    .dataframe tbody tr th {\n",
       "        vertical-align: top;\n",
       "    }\n",
       "\n",
       "    .dataframe thead th {\n",
       "        text-align: right;\n",
       "    }\n",
       "</style>\n",
       "<table border=\"1\" class=\"dataframe\">\n",
       "  <thead>\n",
       "    <tr style=\"text-align: right;\">\n",
       "      <th></th>\n",
       "      <th>점수</th>\n",
       "      <th>교육기관</th>\n",
       "    </tr>\n",
       "  </thead>\n",
       "  <tbody>\n",
       "    <tr>\n",
       "      <th>0</th>\n",
       "      <td>66</td>\n",
       "      <td>a</td>\n",
       "    </tr>\n",
       "    <tr>\n",
       "      <th>1</th>\n",
       "      <td>74</td>\n",
       "      <td>a</td>\n",
       "    </tr>\n",
       "    <tr>\n",
       "      <th>2</th>\n",
       "      <td>82</td>\n",
       "      <td>a</td>\n",
       "    </tr>\n",
       "    <tr>\n",
       "      <th>3</th>\n",
       "      <td>75</td>\n",
       "      <td>a</td>\n",
       "    </tr>\n",
       "  </tbody>\n",
       "</table>\n",
       "</div>"
      ],
      "text/plain": [
       "   점수 교육기관\n",
       "0  66    a\n",
       "1  74    a\n",
       "2  82    a\n",
       "3  75    a"
      ]
     },
     "execution_count": 4,
     "metadata": {},
     "output_type": "execute_result"
    }
   ],
   "source": [
    "# 데이터프레임 변환\n",
    "check = ['a', 'b', 'c', 'd']\n",
    "check = [check[j] for j in range(4) for i in range(8)]\n",
    "data = pd.DataFrame({'점수':a+b+c+d, '교육기관':check})\n",
    "data.head(4)"
   ]
  },
  {
   "cell_type": "code",
   "execution_count": 5,
   "id": "a31b7e01",
   "metadata": {},
   "outputs": [
    {
     "name": "stdout",
     "output_type": "stream",
     "text": [
      "정규성을 검정\n",
      "ShapiroResult(statistic=0.9516036510467529, pvalue=0.7273865938186646)\n",
      "ShapiroResult(statistic=0.9632648825645447, pvalue=0.8405646681785583)\n",
      "ShapiroResult(statistic=0.8988886475563049, pvalue=0.2823662757873535)\n",
      "ShapiroResult(statistic=0.93294757604599, pvalue=0.5432827472686768)\n",
      "KstestResult(statistic=0.625, pvalue=0.08702408702408701)\n",
      "KstestResult(statistic=0.625, pvalue=0.08702408702408701)\n",
      "KstestResult(statistic=0.5, pvalue=0.2826728826728826)\n",
      "KstestResult(statistic=0.25, pvalue=0.98010878010878)\n",
      "KstestResult(statistic=0.25, pvalue=0.98010878010878)\n",
      "KstestResult(statistic=0.25, pvalue=0.98010878010878)\n",
      "등분산성 검정\n",
      "LeveneResult(statistic=0.07560756075607561, pvalue=0.972627101462453)\n",
      "BartlettResult(statistic=0.07373983712569482, pvalue=0.9947906337756077)\n"
     ]
    }
   ],
   "source": [
    "## 정규성 검정 : 자료의 모집단 분포는 정규분포를 따름\n",
    "from scipy.stats import shapiro\n",
    "\n",
    "print('정규성을 검정')\n",
    "normal_a = shapiro(a)\n",
    "normal_b = shapiro(b)\n",
    "normal_c = shapiro(c)\n",
    "normal_d = shapiro(d)\n",
    "\n",
    "print(normal_a)\n",
    "print(normal_b)\n",
    "print(normal_c)\n",
    "print(normal_d)\n",
    "\n",
    "print(stats.ks_2samp(a, b), stats.ks_2samp(a, c), stats.ks_2samp(a, d),\n",
    "     stats.ks_2samp(b, c), stats.ks_2samp(b, d),\n",
    "     stats.ks_2samp(c, d), sep = \"\\n\")\n",
    "\n",
    "## 등분산성 검정 : 모든 집단의 모분산은 동일함\n",
    "print('등분산성 검정')\n",
    "#levene 등분산성 검정\n",
    "from scipy.stats import levene\n",
    "print(levene(a, b, c, d))\n",
    "\n",
    "# bartlett 등분산성 검정\n",
    "from scipy.stats import bartlett\n",
    "print(bartlett(a, b, c, d))\n",
    "\n",
    "# 결과 : p-value > 0.05, 등분산성 만족"
   ]
  },
  {
   "cell_type": "code",
   "execution_count": 24,
   "id": "2d00647e",
   "metadata": {},
   "outputs": [
    {
     "name": "stdout",
     "output_type": "stream",
     "text": [
      "F = 3.5, p = 0.029\n",
      "귀무가설 기각, 4개의 교육훈련 기법간이 차이가 있다.\n"
     ]
    }
   ],
   "source": [
    "# F통계량을 이용한 가설 검정\n",
    "f_statistic, pval = stats.f_oneway(a, b, c, d)\n",
    "\n",
    "print('F = {0:.1f}, p = {1:.3f}'.format(f_statistic, pval))\n",
    "\n",
    "if pval < 0.05:\n",
    "    print(\"귀무가설 기각, 4개의 교육훈련 기법간이 차이가 있다.\")\n",
    "else:\n",
    "    print(\"귀무가설 채택, 4개의 교육훈련 기법간이 차이가 없다.\")"
   ]
  },
  {
   "cell_type": "markdown",
   "id": "6fb22c4d",
   "metadata": {},
   "source": [
    "### Statsmodel을 이용한 가설 검정"
   ]
  },
  {
   "cell_type": "code",
   "execution_count": 7,
   "id": "8d3bd6fd",
   "metadata": {},
   "outputs": [
    {
     "data": {
      "text/html": [
       "<div>\n",
       "<style scoped>\n",
       "    .dataframe tbody tr th:only-of-type {\n",
       "        vertical-align: middle;\n",
       "    }\n",
       "\n",
       "    .dataframe tbody tr th {\n",
       "        vertical-align: top;\n",
       "    }\n",
       "\n",
       "    .dataframe thead th {\n",
       "        text-align: right;\n",
       "    }\n",
       "</style>\n",
       "<table border=\"1\" class=\"dataframe\">\n",
       "  <thead>\n",
       "    <tr style=\"text-align: right;\">\n",
       "      <th></th>\n",
       "      <th>df</th>\n",
       "      <th>sum_sq</th>\n",
       "      <th>mean_sq</th>\n",
       "      <th>F</th>\n",
       "      <th>PR(&gt;F)</th>\n",
       "    </tr>\n",
       "  </thead>\n",
       "  <tbody>\n",
       "    <tr>\n",
       "      <th>C(교육기관)</th>\n",
       "      <td>3.0</td>\n",
       "      <td>885.25</td>\n",
       "      <td>295.083333</td>\n",
       "      <td>3.482176</td>\n",
       "      <td>0.028897</td>\n",
       "    </tr>\n",
       "    <tr>\n",
       "      <th>Residual</th>\n",
       "      <td>28.0</td>\n",
       "      <td>2372.75</td>\n",
       "      <td>84.741071</td>\n",
       "      <td>NaN</td>\n",
       "      <td>NaN</td>\n",
       "    </tr>\n",
       "  </tbody>\n",
       "</table>\n",
       "</div>"
      ],
      "text/plain": [
       "            df   sum_sq     mean_sq         F    PR(>F)\n",
       "C(교육기관)    3.0   885.25  295.083333  3.482176  0.028897\n",
       "Residual  28.0  2372.75   84.741071       NaN       NaN"
      ]
     },
     "execution_count": 7,
     "metadata": {},
     "output_type": "execute_result"
    }
   ],
   "source": [
    "# Statsmodel을 사용한 일원분산분석\n",
    "\n",
    "from statsmodels.formula.api import ols\n",
    "from statsmodels.stats.anova import anova_lm\n",
    "\n",
    "model_1A = ols('점수 ~ C(교육기관)', data).fit()\n",
    "anova_lm_result = anova_lm(model_1A)\n",
    "anova_lm_result\n",
    "\n",
    "# data.shape(32, 2)\n",
    "# SSA k - 1 = 4 - 1 = 4????\n",
    "# SSE N-k = 32-4 = 28\n",
    "# SST N-1 = 32-1 = 31\n",
    "# MSA / MSW = 295.083333 / 84.740171 = 3.482176"
   ]
  },
  {
   "cell_type": "code",
   "execution_count": 8,
   "id": "244a9c1e",
   "metadata": {},
   "outputs": [
    {
     "name": "stdout",
     "output_type": "stream",
     "text": [
      "귀무가설 기각, 4개의 교육훈련 기법간이 차이가 있다.\n"
     ]
    }
   ],
   "source": [
    "pval = anova_lm_result['PR(>F)'][0]\n",
    "\n",
    "if pval < 0.05:\n",
    "    print(\"귀무가설 기각, 4개의 교육훈련 기법간이 차이가 있다.\")\n",
    "else :\n",
    "    print(\"귀무가설 채택, 4개의 교육훈련 기법간이 차이가 없다.\")"
   ]
  },
  {
   "cell_type": "code",
   "execution_count": 9,
   "id": "3d01e0ad",
   "metadata": {},
   "outputs": [
    {
     "data": {
      "text/html": [
       "<table class=\"simpletable\">\n",
       "<caption>Multiple Comparison of Means - Tukey HSD, FWER=0.05</caption>\n",
       "<tr>\n",
       "  <th>group1</th> <th>group2</th> <th>meandiff</th>  <th>p-adj</th>   <th>lower</th>   <th>upper</th>  <th>reject</th>\n",
       "</tr>\n",
       "<tr>\n",
       "     <td>a</td>      <td>b</td>    <td>-13.625</td> <td>0.0298</td> <td>-26.1919</td> <td>-1.0581</td>  <td>True</td> \n",
       "</tr>\n",
       "<tr>\n",
       "     <td>a</td>      <td>c</td>    <td>-11.875</td> <td>0.0692</td> <td>-24.4419</td> <td>0.6919</td>   <td>False</td>\n",
       "</tr>\n",
       "<tr>\n",
       "     <td>a</td>      <td>d</td>     <td>-9.5</td>   <td>0.1896</td> <td>-22.0669</td> <td>3.0669</td>   <td>False</td>\n",
       "</tr>\n",
       "<tr>\n",
       "     <td>b</td>      <td>c</td>     <td>1.75</td>   <td>0.9809</td> <td>-10.8169</td> <td>14.3169</td>  <td>False</td>\n",
       "</tr>\n",
       "<tr>\n",
       "     <td>b</td>      <td>d</td>     <td>4.125</td>  <td>0.8068</td>  <td>-8.4419</td> <td>16.6919</td>  <td>False</td>\n",
       "</tr>\n",
       "<tr>\n",
       "     <td>c</td>      <td>d</td>     <td>2.375</td>  <td>0.9546</td> <td>-10.1919</td> <td>14.9419</td>  <td>False</td>\n",
       "</tr>\n",
       "</table>"
      ],
      "text/plain": [
       "<class 'statsmodels.iolib.table.SimpleTable'>"
      ]
     },
     "execution_count": 9,
     "metadata": {},
     "output_type": "execute_result"
    }
   ],
   "source": [
    "## 사후 분석 : ANOVA 검증 결과 유의미하다는 결론을 얻었을 떄,\n",
    "## 구체적으로 어던 수준(들)에서 평균 차이가 나는지를 검증\n",
    "from statsmodels.stats.multicomp import pairwise_tukeyhsd\n",
    "\n",
    "HSD = pairwise_tukeyhsd(data['점수'], data['교육기관'], alpha = 0.05)\n",
    "HSD.summary()\n",
    "\n",
    "# a, b 차이, a, c 차이만 유의함"
   ]
  },
  {
   "cell_type": "markdown",
   "id": "6920092e",
   "metadata": {},
   "source": [
    "### 이원분산분석"
   ]
  },
  {
   "cell_type": "code",
   "execution_count": 18,
   "id": "abb2534a",
   "metadata": {},
   "outputs": [],
   "source": [
    "# 종속변수: 강도, 독립변수 : 판유리/ 온도\n",
    "\n",
    "data = pd.DataFrame({'판유리' :  ['유리1', '유리1', '유리1', '유리2', '유리2', '유리2', '유리3', '유리',\n",
    "                             '유리3', '유리1', '유리', '유리1', '유리2', '유리2', '유리2', '유리2',\n",
    "                             '유리3', '유리3', '유리1', '유리1', '유리1', '유리2', '유리2', '유리2', \n",
    "                             '유리3', '유리3', '유리3'],\n",
    "                   '온도' : [100, 100, 100, 100, 100, 100, 100, 100, 100, 125, 125, 125, 125, 125,\n",
    "                          125, 125, 125, 125, 150, 150, 150, 150, 150, 150, 150, 150, 150],\n",
    "                   '강도' : [580, 568, 570, 550, 530, 579, 546, 575, 599, 1090, 1087, 1085, 1070,\n",
    "                           1035, 1000, 1045, 1053, 1066, 1392, 1380, 1386, 1328, 1312, 1299, 867,\n",
    "                          904, 889]})"
   ]
  },
  {
   "cell_type": "code",
   "execution_count": 19,
   "id": "904b7244",
   "metadata": {},
   "outputs": [
    {
     "data": {
      "text/html": [
       "<div>\n",
       "<style scoped>\n",
       "    .dataframe tbody tr th:only-of-type {\n",
       "        vertical-align: middle;\n",
       "    }\n",
       "\n",
       "    .dataframe tbody tr th {\n",
       "        vertical-align: top;\n",
       "    }\n",
       "\n",
       "    .dataframe thead th {\n",
       "        text-align: right;\n",
       "    }\n",
       "</style>\n",
       "<table border=\"1\" class=\"dataframe\">\n",
       "  <thead>\n",
       "    <tr style=\"text-align: right;\">\n",
       "      <th></th>\n",
       "      <th>판유리</th>\n",
       "      <th>온도</th>\n",
       "      <th>강도</th>\n",
       "    </tr>\n",
       "  </thead>\n",
       "  <tbody>\n",
       "    <tr>\n",
       "      <th>0</th>\n",
       "      <td>유리1</td>\n",
       "      <td>100</td>\n",
       "      <td>580</td>\n",
       "    </tr>\n",
       "    <tr>\n",
       "      <th>1</th>\n",
       "      <td>유리1</td>\n",
       "      <td>100</td>\n",
       "      <td>568</td>\n",
       "    </tr>\n",
       "    <tr>\n",
       "      <th>2</th>\n",
       "      <td>유리1</td>\n",
       "      <td>100</td>\n",
       "      <td>570</td>\n",
       "    </tr>\n",
       "    <tr>\n",
       "      <th>3</th>\n",
       "      <td>유리2</td>\n",
       "      <td>100</td>\n",
       "      <td>550</td>\n",
       "    </tr>\n",
       "    <tr>\n",
       "      <th>4</th>\n",
       "      <td>유리2</td>\n",
       "      <td>100</td>\n",
       "      <td>530</td>\n",
       "    </tr>\n",
       "  </tbody>\n",
       "</table>\n",
       "</div>"
      ],
      "text/plain": [
       "   판유리   온도   강도\n",
       "0  유리1  100  580\n",
       "1  유리1  100  568\n",
       "2  유리1  100  570\n",
       "3  유리2  100  550\n",
       "4  유리2  100  530"
      ]
     },
     "execution_count": 19,
     "metadata": {},
     "output_type": "execute_result"
    }
   ],
   "source": [
    "data.head()"
   ]
  },
  {
   "cell_type": "code",
   "execution_count": 20,
   "id": "617c294a",
   "metadata": {},
   "outputs": [
    {
     "data": {
      "text/html": [
       "<div>\n",
       "<style scoped>\n",
       "    .dataframe tbody tr th:only-of-type {\n",
       "        vertical-align: middle;\n",
       "    }\n",
       "\n",
       "    .dataframe tbody tr th {\n",
       "        vertical-align: top;\n",
       "    }\n",
       "\n",
       "    .dataframe thead th {\n",
       "        text-align: right;\n",
       "    }\n",
       "</style>\n",
       "<table border=\"1\" class=\"dataframe\">\n",
       "  <thead>\n",
       "    <tr style=\"text-align: right;\">\n",
       "      <th></th>\n",
       "      <th></th>\n",
       "      <th>강도</th>\n",
       "    </tr>\n",
       "    <tr>\n",
       "      <th>판유리</th>\n",
       "      <th>온도</th>\n",
       "      <th></th>\n",
       "    </tr>\n",
       "  </thead>\n",
       "  <tbody>\n",
       "    <tr>\n",
       "      <th rowspan=\"2\" valign=\"top\">유리</th>\n",
       "      <th>100</th>\n",
       "      <td>1</td>\n",
       "    </tr>\n",
       "    <tr>\n",
       "      <th>125</th>\n",
       "      <td>1</td>\n",
       "    </tr>\n",
       "    <tr>\n",
       "      <th rowspan=\"3\" valign=\"top\">유리1</th>\n",
       "      <th>100</th>\n",
       "      <td>3</td>\n",
       "    </tr>\n",
       "    <tr>\n",
       "      <th>125</th>\n",
       "      <td>2</td>\n",
       "    </tr>\n",
       "    <tr>\n",
       "      <th>150</th>\n",
       "      <td>3</td>\n",
       "    </tr>\n",
       "    <tr>\n",
       "      <th rowspan=\"3\" valign=\"top\">유리2</th>\n",
       "      <th>100</th>\n",
       "      <td>3</td>\n",
       "    </tr>\n",
       "    <tr>\n",
       "      <th>125</th>\n",
       "      <td>4</td>\n",
       "    </tr>\n",
       "    <tr>\n",
       "      <th>150</th>\n",
       "      <td>3</td>\n",
       "    </tr>\n",
       "    <tr>\n",
       "      <th rowspan=\"3\" valign=\"top\">유리3</th>\n",
       "      <th>100</th>\n",
       "      <td>2</td>\n",
       "    </tr>\n",
       "    <tr>\n",
       "      <th>125</th>\n",
       "      <td>2</td>\n",
       "    </tr>\n",
       "    <tr>\n",
       "      <th>150</th>\n",
       "      <td>3</td>\n",
       "    </tr>\n",
       "  </tbody>\n",
       "</table>\n",
       "</div>"
      ],
      "text/plain": [
       "         강도\n",
       "판유리 온도     \n",
       "유리  100   1\n",
       "    125   1\n",
       "유리1 100   3\n",
       "    125   2\n",
       "    150   3\n",
       "유리2 100   3\n",
       "    125   4\n",
       "    150   3\n",
       "유리3 100   2\n",
       "    125   2\n",
       "    150   3"
      ]
     },
     "execution_count": 20,
     "metadata": {},
     "output_type": "execute_result"
    }
   ],
   "source": [
    "data.groupby(['판유리', '온도']).agg(len)\n",
    "# 판유리 온도 요인으로 구분한 각 집단별 표본 수는 모두 3으로 동일"
   ]
  },
  {
   "cell_type": "code",
   "execution_count": 21,
   "id": "e2a8d68e",
   "metadata": {},
   "outputs": [
    {
     "data": {
      "text/html": [
       "<div>\n",
       "<style scoped>\n",
       "    .dataframe tbody tr th:only-of-type {\n",
       "        vertical-align: middle;\n",
       "    }\n",
       "\n",
       "    .dataframe tbody tr th {\n",
       "        vertical-align: top;\n",
       "    }\n",
       "\n",
       "    .dataframe thead th {\n",
       "        text-align: right;\n",
       "    }\n",
       "</style>\n",
       "<table border=\"1\" class=\"dataframe\">\n",
       "  <thead>\n",
       "    <tr style=\"text-align: right;\">\n",
       "      <th></th>\n",
       "      <th>df</th>\n",
       "      <th>sum_sq</th>\n",
       "      <th>mean_sq</th>\n",
       "      <th>F</th>\n",
       "      <th>PR(&gt;F)</th>\n",
       "    </tr>\n",
       "  </thead>\n",
       "  <tbody>\n",
       "    <tr>\n",
       "      <th>C(판유리)</th>\n",
       "      <td>3.0</td>\n",
       "      <td>1.325932e+05</td>\n",
       "      <td>4.419772e+04</td>\n",
       "      <td>108.630059</td>\n",
       "      <td>7.519463e-11</td>\n",
       "    </tr>\n",
       "    <tr>\n",
       "      <th>C(온도)</th>\n",
       "      <td>2.0</td>\n",
       "      <td>2.016331e+06</td>\n",
       "      <td>1.008166e+06</td>\n",
       "      <td>2477.889953</td>\n",
       "      <td>1.150442e-20</td>\n",
       "    </tr>\n",
       "    <tr>\n",
       "      <th>C(판유리):C(온도)</th>\n",
       "      <td>6.0</td>\n",
       "      <td>2.630886e+05</td>\n",
       "      <td>4.384810e+04</td>\n",
       "      <td>107.770740</td>\n",
       "      <td>4.979543e-12</td>\n",
       "    </tr>\n",
       "    <tr>\n",
       "      <th>Residual</th>\n",
       "      <td>16.0</td>\n",
       "      <td>6.509833e+03</td>\n",
       "      <td>4.068646e+02</td>\n",
       "      <td>NaN</td>\n",
       "      <td>NaN</td>\n",
       "    </tr>\n",
       "  </tbody>\n",
       "</table>\n",
       "</div>"
      ],
      "text/plain": [
       "                df        sum_sq       mean_sq            F        PR(>F)\n",
       "C(판유리)         3.0  1.325932e+05  4.419772e+04   108.630059  7.519463e-11\n",
       "C(온도)          2.0  2.016331e+06  1.008166e+06  2477.889953  1.150442e-20\n",
       "C(판유리):C(온도)   6.0  2.630886e+05  4.384810e+04   107.770740  4.979543e-12\n",
       "Residual      16.0  6.509833e+03  4.068646e+02          NaN           NaN"
      ]
     },
     "execution_count": 21,
     "metadata": {},
     "output_type": "execute_result"
    }
   ],
   "source": [
    "# 이원분산분석\n",
    "from statsmodels.formula.api import ols\n",
    "from statsmodels.stats.anova import anova_lm\n",
    "\n",
    "model = ols('강도 ~ C(판유리) * C(온도)', data).fit()\n",
    "anova_result = pd.DataFrame(anova_lm(model))\n",
    "\n",
    "anova_result"
   ]
  },
  {
   "cell_type": "code",
   "execution_count": 23,
   "id": "264baab0",
   "metadata": {},
   "outputs": [
    {
     "name": "stdout",
     "output_type": "stream",
     "text": [
      "      Multiple Comparison of Means - Tukey HSD, FWER=0.05      \n",
      "===============================================================\n",
      "  group1    group2   meandiff p-adj    lower     upper   reject\n",
      "---------------------------------------------------------------\n",
      " 유리 / 100  유리 / 125     512.0    0.0  405.9839  618.0161   True\n",
      " 유리 / 100 유리1 / 100   -2.3333    1.0  -88.8951   84.2284  False\n",
      " 유리 / 100 유리1 / 125     512.5    0.0  420.6874  604.3126   True\n",
      " 유리 / 100 유리1 / 150     811.0    0.0  724.4382  897.5618   True\n",
      " 유리 / 100 유리2 / 100     -22.0 0.9951 -108.5618   64.5618  False\n",
      " 유리 / 100 유리2 / 125     462.5    0.0  378.6869  546.3131   True\n",
      " 유리 / 100 유리2 / 150     738.0    0.0  651.4382  824.5618   True\n",
      " 유리 / 100 유리3 / 100      -2.5    1.0  -94.3126   89.3126  False\n",
      " 유리 / 100 유리3 / 125     484.5    0.0  392.6874  576.3126   True\n",
      " 유리 / 100 유리3 / 150  311.6667    0.0  225.1049  398.2284   True\n",
      " 유리 / 125 유리1 / 100 -514.3333    0.0 -600.8951 -427.7716   True\n",
      " 유리 / 125 유리1 / 125       0.5    1.0  -91.3126   92.3126  False\n",
      " 유리 / 125 유리1 / 150     299.0    0.0  212.4382  385.5618   True\n",
      " 유리 / 125 유리2 / 100    -534.0    0.0 -620.5618 -447.4382   True\n",
      " 유리 / 125 유리2 / 125     -49.5 0.5367 -133.3131   34.3131  False\n",
      " 유리 / 125 유리2 / 150     226.0    0.0  139.4382  312.5618   True\n",
      " 유리 / 125 유리3 / 100    -514.5    0.0 -606.3126 -422.6874   True\n",
      " 유리 / 125 유리3 / 125     -27.5 0.9839 -119.3126   64.3126  False\n",
      " 유리 / 125 유리3 / 150 -200.3333    0.0 -286.8951 -113.7716   True\n",
      "유리1 / 100 유리1 / 125  514.8333    0.0  446.4003  583.2664   True\n",
      "유리1 / 100 유리1 / 150  813.3333    0.0  752.1249  874.5417   True\n",
      "유리1 / 100 유리2 / 100  -19.6667 0.9742  -80.8751   41.5417  False\n",
      "유리1 / 100 유리2 / 125  464.8333    0.0  407.5781  522.0885   True\n",
      "유리1 / 100 유리2 / 150  740.3333    0.0  679.1249  801.5417   True\n",
      "유리1 / 100 유리3 / 100   -0.1667    1.0  -68.5997   68.2664  False\n",
      "유리1 / 100 유리3 / 125  486.8333    0.0  418.4003  555.2664   True\n",
      "유리1 / 100 유리3 / 150     314.0    0.0  252.7916  375.2084   True\n",
      "유리1 / 125 유리1 / 150     298.5    0.0  230.0669  366.9331   True\n",
      "유리1 / 125 유리2 / 100    -534.5    0.0 -602.9331 -466.0669   True\n",
      "유리1 / 125 유리2 / 125     -50.0 0.2184 -114.9213   14.9213  False\n",
      "유리1 / 125 유리2 / 150     225.5    0.0  157.0669  293.9331   True\n",
      "유리1 / 125 유리3 / 100    -515.0    0.0 -589.9647 -440.0353   True\n",
      "유리1 / 125 유리3 / 125     -28.0 0.9347 -102.9647   46.9647  False\n",
      "유리1 / 125 유리3 / 150 -200.8333    0.0 -269.2664 -132.4003   True\n",
      "유리1 / 150 유리2 / 100    -833.0    0.0 -894.2084 -771.7916   True\n",
      "유리1 / 150 유리2 / 125    -348.5    0.0 -405.7552 -291.2448   True\n",
      "유리1 / 150 유리2 / 150     -73.0  0.013 -134.2084  -11.7916   True\n",
      "유리1 / 150 유리3 / 100    -813.5    0.0 -881.9331 -745.0669   True\n",
      "유리1 / 150 유리3 / 125    -326.5    0.0 -394.9331 -258.0669   True\n",
      "유리1 / 150 유리3 / 150 -499.3333    0.0 -560.5417 -438.1249   True\n",
      "유리2 / 100 유리2 / 125     484.5    0.0  427.2448  541.7552   True\n",
      "유리2 / 100 유리2 / 150     760.0    0.0  698.7916  821.2084   True\n",
      "유리2 / 100 유리3 / 100      19.5 0.9887  -48.9331   87.9331  False\n",
      "유리2 / 100 유리3 / 125     506.5    0.0  438.0669  574.9331   True\n",
      "유리2 / 100 유리3 / 150  333.6667    0.0  272.4583  394.8751   True\n",
      "유리2 / 125 유리2 / 150     275.5    0.0  218.2448  332.7552   True\n",
      "유리2 / 125 유리3 / 100    -465.0    0.0 -529.9213 -400.0787   True\n",
      "유리2 / 125 유리3 / 125      22.0 0.9636  -42.9213   86.9213  False\n",
      "유리2 / 125 유리3 / 150 -150.8333    0.0 -208.0885  -93.5781   True\n",
      "유리2 / 150 유리3 / 100    -740.5    0.0 -808.9331 -672.0669   True\n",
      "유리2 / 150 유리3 / 125    -253.5    0.0 -321.9331 -185.0669   True\n",
      "유리2 / 150 유리3 / 150 -426.3333    0.0 -487.5417 -365.1249   True\n",
      "유리3 / 100 유리3 / 125     487.0    0.0  412.0353  561.9647   True\n",
      "유리3 / 100 유리3 / 150  314.1667    0.0  245.7336  382.5997   True\n",
      "유리3 / 125 유리3 / 150 -172.8333    0.0 -241.2664 -104.4003   True\n",
      "---------------------------------------------------------------\n"
     ]
    }
   ],
   "source": [
    "## 사후 분석\n",
    "data['온도'] = data['온도'].astype('str')\n",
    "data['combi'] = data.판유리 + \" / \" + data.온도\n",
    "print(pairwise_tukeyhsd(data['강도'], data['combi']))"
   ]
  },
  {
   "cell_type": "code",
   "execution_count": null,
   "id": "db3af522",
   "metadata": {},
   "outputs": [],
   "source": []
  }
 ],
 "metadata": {
  "kernelspec": {
   "display_name": "Python 3 (ipykernel)",
   "language": "python",
   "name": "python3"
  },
  "language_info": {
   "codemirror_mode": {
    "name": "ipython",
    "version": 3
   },
   "file_extension": ".py",
   "mimetype": "text/x-python",
   "name": "python",
   "nbconvert_exporter": "python",
   "pygments_lexer": "ipython3",
   "version": "3.9.12"
  }
 },
 "nbformat": 4,
 "nbformat_minor": 5
}
