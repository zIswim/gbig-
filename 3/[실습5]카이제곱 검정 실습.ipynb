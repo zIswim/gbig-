{
 "cells": [
  {
   "cell_type": "markdown",
   "id": "21afe458",
   "metadata": {},
   "source": [
    "# 카이제곱 검정"
   ]
  },
  {
   "cell_type": "markdown",
   "id": "667f9dc1",
   "metadata": {},
   "source": [
    "## 적합도 검정"
   ]
  },
  {
   "cell_type": "code",
   "execution_count": 1,
   "id": "f19dcfe1",
   "metadata": {},
   "outputs": [],
   "source": [
    "# 패키지 임포트\n",
    "import os\n",
    "import warnings\n",
    "# FutureWarning 제거\n",
    "warnings.simplefilter(action = 'ignore', category = FutureWarning)\n",
    "\n",
    "import pandas as pd # pandas package\n",
    "import numpy as np # numpy package\n",
    "from scipy import stats # Scipy Package\n",
    "import math\n",
    "\n",
    "#시각화 패키지\n",
    "import matplotlib.pyplot as plt # matplotlib 시각화 패키지\n",
    "import seaborn as sns\n",
    "%matplotlib inline\n",
    "\n",
    "# os에 따른 Font 깨짐 제거를 위해 Font 지정\n",
    "import os\n",
    "if os.name == 'nt' : # Windows OS\n",
    "    font_family = \"Malgun Gothic\"\n",
    "else: # MAC OS\n",
    "    font_family = \"AppleGothic\"\n",
    "    \n",
    "# - 값이 깨지는 문제 해결을 위해 파라미터값 설정\n",
    "sns.set(font = font_family, rc = {\"axes.unicode_minus\" : False})"
   ]
  },
  {
   "cell_type": "code",
   "execution_count": 25,
   "id": "59f82d11",
   "metadata": {},
   "outputs": [
    {
     "name": "stdout",
     "output_type": "stream",
     "text": [
      "A조    15\n",
      "B조    35\n",
      "C조    23\n",
      "D조    27\n",
      "Name: 관측빈도, dtype: int64\n",
      "A조    25\n",
      "B조    25\n",
      "C조    25\n",
      "D조    25\n",
      "Name: 기대빈도, dtype: int64\n"
     ]
    },
    {
     "data": {
      "text/html": [
       "<div>\n",
       "<style scoped>\n",
       "    .dataframe tbody tr th:only-of-type {\n",
       "        vertical-align: middle;\n",
       "    }\n",
       "\n",
       "    .dataframe tbody tr th {\n",
       "        vertical-align: top;\n",
       "    }\n",
       "\n",
       "    .dataframe thead th {\n",
       "        text-align: right;\n",
       "    }\n",
       "</style>\n",
       "<table border=\"1\" class=\"dataframe\">\n",
       "  <thead>\n",
       "    <tr style=\"text-align: right;\">\n",
       "      <th></th>\n",
       "      <th>A조</th>\n",
       "      <th>B조</th>\n",
       "      <th>C조</th>\n",
       "      <th>D조</th>\n",
       "    </tr>\n",
       "  </thead>\n",
       "  <tbody>\n",
       "    <tr>\n",
       "      <th>관측빈도</th>\n",
       "      <td>15</td>\n",
       "      <td>35</td>\n",
       "      <td>23</td>\n",
       "      <td>27</td>\n",
       "    </tr>\n",
       "    <tr>\n",
       "      <th>기대빈도</th>\n",
       "      <td>25</td>\n",
       "      <td>25</td>\n",
       "      <td>25</td>\n",
       "      <td>25</td>\n",
       "    </tr>\n",
       "  </tbody>\n",
       "</table>\n",
       "</div>"
      ],
      "text/plain": [
       "      A조  B조  C조  D조\n",
       "관측빈도  15  35  23  27\n",
       "기대빈도  25  25  25  25"
      ]
     },
     "execution_count": 25,
     "metadata": {},
     "output_type": "execute_result"
    }
   ],
   "source": [
    "#### 적합도 검정 ####\n",
    "## 데이터 생성\n",
    "# 4교대 근무, 1일 불량 수 조사, 각조의 불량 수 차이 여부 검정\n",
    "observed_, expected_ = [15, 35, 23, 27], [25, 25, 25, 25]\n",
    "ct_1 = pd.DataFrame([observed_, expected_], columns = [\"A조\", \"B조\", \"C조\",\"D조\",],\n",
    "                   index = ['관측빈도', '기대빈도'])\n",
    "\n",
    "## 카이제곱 검정 통계량 계산\n",
    "observed = ct_1.loc[\"관측빈도\"]\n",
    "expected = ct_1.loc[\"기대빈도\"]\n",
    "\n",
    "chi_squared_test = (observed - expected).pow(2) / expected\n",
    "\n",
    "print(observed)\n",
    "print(expected)\n",
    "ct_1"
   ]
  },
  {
   "cell_type": "code",
   "execution_count": 26,
   "id": "58d5efc7",
   "metadata": {},
   "outputs": [
    {
     "name": "stdout",
     "output_type": "stream",
     "text": [
      "카이제곱 통계량 8.32\n",
      "기각역: 7.814727903251179\n",
      "귀무가설 기각, 4개조의 불량수는 차이가 있다.\n",
      "p-value: 0.03984112110571225\n",
      "귀무가설 기각, 4개조의 불량수는 차이가 있다.\n"
     ]
    },
    {
     "data": {
      "text/plain": [
       "Power_divergenceResult(statistic=8.32, pvalue=0.03984112110571229)"
      ]
     },
     "execution_count": 26,
     "metadata": {},
     "output_type": "execute_result"
    }
   ],
   "source": [
    "chi_squared_statistic = chi_squared_test.sum()\n",
    "print('카이제곱 통계량', chi_squared_statistic)\n",
    "\n",
    "## 카이제곱 검정 수행(적합도 검정)\n",
    "dof = (4-1)*(2-1)\n",
    "chi_ = stats.chi2(dof)\n",
    "chi_05 = chi_.ppf(0.95)\n",
    "print('기각역:', chi_05)\n",
    "\n",
    "# 카이제곱 통계량 기반 검정\n",
    "if chi_05 >= chi_squared_statistic :\n",
    "    print(\"귀무가설 채택, 4개조의 불량수는 차이가 없다.\")\n",
    "else:\n",
    "    print(\"귀무가설 기각, 4개조의 불량수는 차이가 있다.\")\n",
    "    \n",
    "p_val = 1 - chi_.cdf(chi_squared_statistic)\n",
    "\n",
    "print('p-value:', p_val)\n",
    "\n",
    "# 유의수준 기반 검정\n",
    "if p_val >= 0.05:\n",
    "    print(\"귀무가설 채택, 4개조의 불량수는 차이가 없다.\")\n",
    "else:\n",
    "    print(\"귀무가설 기각, 4개조의 불량수는 차이가 있다.\")\n",
    "    \n",
    "## chisquare : 모집단의 분포를 알고 있고, 이에 대해 검증할 때, 활용 package\n",
    "stats.chisquare(ct_1.loc[\"관측빈도\"].values,f_exp = ct_1.loc[\"기대빈도\"].values)"
   ]
  },
  {
   "cell_type": "markdown",
   "id": "526c5b93",
   "metadata": {},
   "source": [
    "## 독립성 검정"
   ]
  },
  {
   "cell_type": "code",
   "execution_count": 6,
   "id": "12968934",
   "metadata": {},
   "outputs": [
    {
     "data": {
      "text/html": [
       "<div>\n",
       "<style scoped>\n",
       "    .dataframe tbody tr th:only-of-type {\n",
       "        vertical-align: middle;\n",
       "    }\n",
       "\n",
       "    .dataframe tbody tr th {\n",
       "        vertical-align: top;\n",
       "    }\n",
       "\n",
       "    .dataframe thead th {\n",
       "        text-align: right;\n",
       "    }\n",
       "</style>\n",
       "<table border=\"1\" class=\"dataframe\">\n",
       "  <thead>\n",
       "    <tr style=\"text-align: right;\">\n",
       "      <th></th>\n",
       "      <th>영양제</th>\n",
       "      <th>감기여부</th>\n",
       "    </tr>\n",
       "  </thead>\n",
       "  <tbody>\n",
       "    <tr>\n",
       "      <th>0</th>\n",
       "      <td>복용</td>\n",
       "      <td>유</td>\n",
       "    </tr>\n",
       "    <tr>\n",
       "      <th>1</th>\n",
       "      <td>복용</td>\n",
       "      <td>유</td>\n",
       "    </tr>\n",
       "    <tr>\n",
       "      <th>2</th>\n",
       "      <td>복용</td>\n",
       "      <td>유</td>\n",
       "    </tr>\n",
       "    <tr>\n",
       "      <th>3</th>\n",
       "      <td>복용</td>\n",
       "      <td>유</td>\n",
       "    </tr>\n",
       "    <tr>\n",
       "      <th>4</th>\n",
       "      <td>복용</td>\n",
       "      <td>유</td>\n",
       "    </tr>\n",
       "  </tbody>\n",
       "</table>\n",
       "</div>"
      ],
      "text/plain": [
       "  영양제 감기여부\n",
       "0  복용    유\n",
       "1  복용    유\n",
       "2  복용    유\n",
       "3  복용    유\n",
       "4  복용    유"
      ]
     },
     "execution_count": 6,
     "metadata": {},
     "output_type": "execute_result"
    }
   ],
   "source": [
    "# 교차분석하기 위한 범주형 데이터 정의\n",
    "cross_data = pd.DataFrame({\n",
    "    \"영양제\" : ['복용', '복용', '복용', '복용', '복용', '복용', '복용', '복용',\n",
    "            '복용', '복용', '복용','복용', '복용', '복용', '복용', '복용',\n",
    "             '복용', '복용', '복용','복용',\n",
    "            '미복용', '미복용', '미복용', '미복용', '미복용', '미복용', '미복용', \n",
    "            '미복용', '미복용', '미복용', '미복용', '미복용', '미복용', '미복용', \n",
    "            '미복용', '미복용', '미복용', '미복용', '미복용', '미복용', ],\n",
    "    \"감기여부\" : ['유', '유', '유', '유', '유', '무','무','무','무','무',\n",
    "             '무', '무', '무', '무', '무','무', '무', '무', '무','무',\n",
    "              '유', '유', '유','유','유','유','유','유','유','유',\n",
    "              '유', '유', '무', '무', '무', '무', '무', '무', '무', '무']\n",
    "})\n",
    "\n",
    "cross_data.head()"
   ]
  },
  {
   "cell_type": "code",
   "execution_count": 9,
   "id": "a6856445",
   "metadata": {},
   "outputs": [
    {
     "name": "stdout",
     "output_type": "stream",
     "text": [
      "감기여부   무   유  All\n",
      "영양제              \n",
      "미복용    8  12   20\n",
      "복용    15   5   20\n",
      "All   23  17   40\n"
     ]
    }
   ],
   "source": [
    "# 교차분석표 생성\n",
    "## summary 행렬 포함한 교차표\n",
    "print(pd.crosstab(cross_data['영양제'], cross_data['감기여부'], margins=True))\n",
    "\n",
    "## 계산하기 위한 교차표\n",
    "data_crosstab = pd.crosstab(cross_data['영양제'], cross_data['감기여부'], margins = False)"
   ]
  },
  {
   "cell_type": "code",
   "execution_count": 10,
   "id": "e32349d2",
   "metadata": {},
   "outputs": [
    {
     "data": {
      "text/html": [
       "<div>\n",
       "<style scoped>\n",
       "    .dataframe tbody tr th:only-of-type {\n",
       "        vertical-align: middle;\n",
       "    }\n",
       "\n",
       "    .dataframe tbody tr th {\n",
       "        vertical-align: top;\n",
       "    }\n",
       "\n",
       "    .dataframe thead th {\n",
       "        text-align: right;\n",
       "    }\n",
       "</style>\n",
       "<table border=\"1\" class=\"dataframe\">\n",
       "  <thead>\n",
       "    <tr style=\"text-align: right;\">\n",
       "      <th>감기여부</th>\n",
       "      <th>무</th>\n",
       "      <th>유</th>\n",
       "    </tr>\n",
       "    <tr>\n",
       "      <th>영양제</th>\n",
       "      <th></th>\n",
       "      <th></th>\n",
       "    </tr>\n",
       "  </thead>\n",
       "  <tbody>\n",
       "    <tr>\n",
       "      <th>미복용</th>\n",
       "      <td>8</td>\n",
       "      <td>12</td>\n",
       "    </tr>\n",
       "    <tr>\n",
       "      <th>복용</th>\n",
       "      <td>15</td>\n",
       "      <td>5</td>\n",
       "    </tr>\n",
       "  </tbody>\n",
       "</table>\n",
       "</div>"
      ],
      "text/plain": [
       "감기여부   무   유\n",
       "영양제         \n",
       "미복용    8  12\n",
       "복용    15   5"
      ]
     },
     "execution_count": 10,
     "metadata": {},
     "output_type": "execute_result"
    }
   ],
   "source": [
    "data_crosstab"
   ]
  },
  {
   "cell_type": "code",
   "execution_count": 24,
   "id": "06fd2cb1",
   "metadata": {},
   "outputs": [
    {
     "name": "stdout",
     "output_type": "stream",
     "text": [
      "1. 카이제곱 통계량: 5.012787723785166\n",
      "2. p-value: 0.025160759200408785\n",
      "3. df: 1\n",
      "4. 기대값 행렬: \n",
      "         유    무\n",
      "복용   11.5  8.5\n",
      "미복용  11.5  8.5\n",
      "귀무가설 기각, 감기약 복용과 감기 유무는 차이가 있다.\n"
     ]
    }
   ],
   "source": [
    "# 교차표 분석: 카이제곱 통계량 산출\n",
    "from scipy.stats import chi2_contingency\n",
    "\n",
    "# correction = True를 적용하면 Yates' correction이 적용되어 검정 통계량이 보수적으로\n",
    "# 더 낮게 나옴\n",
    "result = chi2_contingency(observed = data_crosstab, correction = False)\n",
    "print(\"1. 카이제곱 통계량:\", result[0])\n",
    "print(\"2. p-value:\", result[1])\n",
    "print(\"3. df:\", result[2]) # (행의 개수 - 1) * (열의개수-1)\n",
    "print(\"4. 기대값 행렬: \\n\", pd.DataFrame(result[3]).rename(index = {0:'복용', 1:'미복용'}, columns = {0:'유', 1:'무'}))\n",
    "\n",
    "if 0.05 >= result[1] :  # p-value\n",
    "    print(\"귀무가설 기각, 감기약 복용과 감기 유무는 차이가 있다.\")\n",
    "else:\n",
    "    print(\"귀무가설 채택, 감기약 복용과 감기 유무는 차이가 없다.\")\n",
    "      "
   ]
  },
  {
   "cell_type": "code",
   "execution_count": null,
   "id": "4146cf4e",
   "metadata": {},
   "outputs": [],
   "source": []
  }
 ],
 "metadata": {
  "kernelspec": {
   "display_name": "Python 3 (ipykernel)",
   "language": "python",
   "name": "python3"
  },
  "language_info": {
   "codemirror_mode": {
    "name": "ipython",
    "version": 3
   },
   "file_extension": ".py",
   "mimetype": "text/x-python",
   "name": "python",
   "nbconvert_exporter": "python",
   "pygments_lexer": "ipython3",
   "version": "3.9.12"
  }
 },
 "nbformat": 4,
 "nbformat_minor": 5
}
