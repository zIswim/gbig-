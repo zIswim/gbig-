{
 "cells": [
  {
   "cell_type": "markdown",
   "id": "322993ed",
   "metadata": {},
   "source": [
    "# 통계적 검정 방법 실습"
   ]
  },
  {
   "cell_type": "code",
   "execution_count": 2,
   "id": "fae7eaa5",
   "metadata": {},
   "outputs": [],
   "source": [
    "# 패키지 임포트\n",
    "import os\n",
    "import warnings\n",
    "# FutureWarning 제거\n",
    "warnings.simplefilter(action = 'ignore', category = FutureWarning)\n",
    "\n",
    "import pandas as pd # pandas package\n",
    "import numpy as np # numpy package\n",
    "from scipy import stats # Scipy Package\n",
    "import math\n",
    "\n",
    "#시각화 패키지\n",
    "import matplotlib.pyplot as plt # matplotlib 시각화 패키지\n",
    "import seaborn as sns\n",
    "%matplotlib inline\n",
    "\n",
    "# os에 따른 Font 깨짐 제거를 위해 Font 지정\n",
    "import os\n",
    "if os.name == 'nt' : # Windows OS\n",
    "    font_family = \"Malgun Gothic\"\n",
    "else: # MAC OS\n",
    "    font_family = \"AppleGothic\"\n",
    "    \n",
    "# - 값이 깨지는 문제 해결을 위해 파라미터값 설정\n",
    "sns.set(font = font_family, rc = {\"axes.unicode_minus\" : False})"
   ]
  },
  {
   "cell_type": "code",
   "execution_count": 3,
   "id": "161232c4",
   "metadata": {},
   "outputs": [
    {
     "data": {
      "text/plain": [
       "ShapiroResult(statistic=0.9641273021697998, pvalue=0.7900116443634033)"
      ]
     },
     "execution_count": 3,
     "metadata": {},
     "output_type": "execute_result"
    }
   ],
   "source": [
    "# 모집단 데이터\n",
    "data = [177.3, 182.7, 169.6, 160, 180.3, 179.4, 178.5, 177.2, 181.8, 176.5, 190, 185, 167, 171]\n",
    "\n",
    "### 데이터의 정규성 검정 : pvalue > 0.05이면 정규성을 따름\n",
    "stats.shapiro(data)"
   ]
  },
  {
   "cell_type": "code",
   "execution_count": 5,
   "id": "0ddfcefa",
   "metadata": {},
   "outputs": [
    {
     "name": "stdout",
     "output_type": "stream",
     "text": [
      "t검정 통계량 = 0.903, pvalue = 0.383\n"
     ]
    }
   ],
   "source": [
    "# 유의수준 0.05\n",
    "m_a = 0.05\n",
    "\n",
    "# 알려진 평균 확인\n",
    "s_mu = 175\n",
    "one_sample_result = stats.ttest_1samp(data,popmean = s_mu)\n",
    "\n",
    "print('t검정 통계량 = %.3f, pvalue = %.3f'%(one_sample_result))"
   ]
  },
  {
   "cell_type": "code",
   "execution_count": 6,
   "id": "b663438a",
   "metadata": {},
   "outputs": [
    {
     "name": "stdout",
     "output_type": "stream",
     "text": [
      "14\n",
      "176.87857142857143\n",
      "7.782443611837389\n",
      "t검정 통계량 : 0.903\n",
      "p_value(유의확률):  0.383\n"
     ]
    }
   ],
   "source": [
    "# 표본 수\n",
    "n = len(data)\n",
    "print(len(data))\n",
    "hysis_mu = np.mean(data)\n",
    "print(np.mean(data))\n",
    "\n",
    "# 알려진 평균\n",
    "s_mu = 175\n",
    "\n",
    "# 표본표준편차\n",
    "s_sigma = np.std(data, ddof = 1)\n",
    "print(np.std(data,ddof = 1))\n",
    "\n",
    "# 통계량 t값 계산\n",
    "t_value = (hysis_mu - s_mu) / (s_sigma / np.sqrt(n))\n",
    "\n",
    "print('t검정 통계량 :', round(t_value, 3))\n",
    "\n",
    "# p_value(유의확률) 계산\n",
    "print('p_value(유의확률): ', round((1 - stats.t(df=13).cdf(t_value))*2, 3))"
   ]
  },
  {
   "cell_type": "code",
   "execution_count": 8,
   "id": "7b786bb9",
   "metadata": {},
   "outputs": [
    {
     "name": "stdout",
     "output_type": "stream",
     "text": [
      "유의수준: 0.05\n",
      "기각값: 2.1603686564610127\n"
     ]
    }
   ],
   "source": [
    "## 기각값\n",
    "# 유의수준 0.05\n",
    "print('유의수준:', m_a)\n",
    "\n",
    "# 기각값\n",
    "t_95 = stats.t.ppf(1 - (1 - 0.95)/ 2, df = n-1)\n",
    "\n",
    "print('기각값:', t_95)"
   ]
  },
  {
   "cell_type": "markdown",
   "id": "8526fe66",
   "metadata": {},
   "source": [
    "## t검정"
   ]
  },
  {
   "cell_type": "markdown",
   "id": "3d14a1d8",
   "metadata": {},
   "source": [
    "### 대응표본 t-검정"
   ]
  },
  {
   "cell_type": "code",
   "execution_count": 9,
   "id": "9d4c8194",
   "metadata": {},
   "outputs": [
    {
     "data": {
      "text/html": [
       "<div>\n",
       "<style scoped>\n",
       "    .dataframe tbody tr th:only-of-type {\n",
       "        vertical-align: middle;\n",
       "    }\n",
       "\n",
       "    .dataframe tbody tr th {\n",
       "        vertical-align: top;\n",
       "    }\n",
       "\n",
       "    .dataframe thead th {\n",
       "        text-align: right;\n",
       "    }\n",
       "</style>\n",
       "<table border=\"1\" class=\"dataframe\">\n",
       "  <thead>\n",
       "    <tr style=\"text-align: right;\">\n",
       "      <th></th>\n",
       "      <th>when</th>\n",
       "      <th>score</th>\n",
       "    </tr>\n",
       "  </thead>\n",
       "  <tbody>\n",
       "    <tr>\n",
       "      <th>0</th>\n",
       "      <td>before</td>\n",
       "      <td>7</td>\n",
       "    </tr>\n",
       "    <tr>\n",
       "      <th>1</th>\n",
       "      <td>before</td>\n",
       "      <td>3</td>\n",
       "    </tr>\n",
       "    <tr>\n",
       "      <th>2</th>\n",
       "      <td>before</td>\n",
       "      <td>4</td>\n",
       "    </tr>\n",
       "    <tr>\n",
       "      <th>3</th>\n",
       "      <td>before</td>\n",
       "      <td>5</td>\n",
       "    </tr>\n",
       "    <tr>\n",
       "      <th>4</th>\n",
       "      <td>before</td>\n",
       "      <td>2</td>\n",
       "    </tr>\n",
       "  </tbody>\n",
       "</table>\n",
       "</div>"
      ],
      "text/plain": [
       "     when  score\n",
       "0  before      7\n",
       "1  before      3\n",
       "2  before      4\n",
       "3  before      5\n",
       "4  before      2"
      ]
     },
     "execution_count": 9,
     "metadata": {},
     "output_type": "execute_result"
    }
   ],
   "source": [
    "# 검정 데이터 관측치\n",
    "before_data = [7, 3, 4, 5, 2, 1, 6, 6, 5, 4]\n",
    "after_data = [8, 4, 5, 6, 2, 3, 6, 8, 6, 5]\n",
    "\n",
    "check = ['before', 'after']\n",
    "# 데이터프레임 merge\n",
    "check = [check[j] for j in range(2) for i in range(10)]\n",
    "\n",
    "data = pd.DataFrame({'when':check, 'score':before_data + after_data})\n",
    "\n",
    "data.head()"
   ]
  },
  {
   "cell_type": "code",
   "execution_count": 10,
   "id": "c3070415",
   "metadata": {},
   "outputs": [
    {
     "name": "stdout",
     "output_type": "stream",
     "text": [
      "ShapiroResult(statistic=0.9644594192504883, pvalue=0.8352694511413574)\n",
      "ShapiroResult(statistic=0.9456835985183716, pvalue=0.6177982091903687)\n"
     ]
    }
   ],
   "source": [
    "# 정규성 검정 : 자료의 모집단 분포는 정규분포를 따름\n",
    "from scipy.stats import shapiro\n",
    "\n",
    "normal_before = shapiro(before_data)\n",
    "normal_after = shapiro(after_data)\n",
    "\n",
    "print(normal_before)\n",
    "print(normal_after)\n",
    "\n",
    "# p-value 모두 0.05보다 크기 때문에 정규성 만족"
   ]
  },
  {
   "cell_type": "code",
   "execution_count": 12,
   "id": "5ba895cf",
   "metadata": {},
   "outputs": [
    {
     "name": "stdout",
     "output_type": "stream",
     "text": [
      "LeveneResult(statistic=0.0, pvalue=1.0)\n",
      "BartlettResult(statistic=0.007785808167159078, pvalue=0.9296881301038368)\n"
     ]
    }
   ],
   "source": [
    "# 등분산성 검정: 모든 집단의 모분산은 동일함\n",
    "from scipy.stats import levene\n",
    "print(levene(before_data, after_data))\n",
    "\n",
    "from scipy.stats import bartlett\n",
    "print(bartlett(before_data, after_data))\n",
    "\n",
    "# p-value가 0.05보다 커서 등분산성 만족"
   ]
  },
  {
   "cell_type": "code",
   "execution_count": 13,
   "id": "c514c499",
   "metadata": {},
   "outputs": [
    {
     "name": "stdout",
     "output_type": "stream",
     "text": [
      "t검정 통계량 = -4.743, pvalue = 0.001\n"
     ]
    }
   ],
   "source": [
    "# 대응표본 t검정 수행\n",
    "paired_result = stats.ttest_rel(before_data, after_data)\n",
    "\n",
    "print('t검정 통계량 = %.3f, pvalue = %.3f'%paired_result)"
   ]
  },
  {
   "cell_type": "markdown",
   "id": "98cfe998",
   "metadata": {},
   "source": [
    "### 독립표본 t-검정"
   ]
  },
  {
   "cell_type": "code",
   "execution_count": 14,
   "id": "14316245",
   "metadata": {},
   "outputs": [
    {
     "data": {
      "text/html": [
       "<div>\n",
       "<style scoped>\n",
       "    .dataframe tbody tr th:only-of-type {\n",
       "        vertical-align: middle;\n",
       "    }\n",
       "\n",
       "    .dataframe tbody tr th {\n",
       "        vertical-align: top;\n",
       "    }\n",
       "\n",
       "    .dataframe thead th {\n",
       "        text-align: right;\n",
       "    }\n",
       "</style>\n",
       "<table border=\"1\" class=\"dataframe\">\n",
       "  <thead>\n",
       "    <tr style=\"text-align: right;\">\n",
       "      <th></th>\n",
       "      <th>region</th>\n",
       "      <th>temp</th>\n",
       "    </tr>\n",
       "  </thead>\n",
       "  <tbody>\n",
       "    <tr>\n",
       "      <th>0</th>\n",
       "      <td>seoul</td>\n",
       "      <td>-1</td>\n",
       "    </tr>\n",
       "    <tr>\n",
       "      <th>1</th>\n",
       "      <td>seoul</td>\n",
       "      <td>0</td>\n",
       "    </tr>\n",
       "    <tr>\n",
       "      <th>2</th>\n",
       "      <td>seoul</td>\n",
       "      <td>3</td>\n",
       "    </tr>\n",
       "  </tbody>\n",
       "</table>\n",
       "</div>"
      ],
      "text/plain": [
       "  region  temp\n",
       "0  seoul    -1\n",
       "1  seoul     0\n",
       "2  seoul     3"
      ]
     },
     "execution_count": 14,
     "metadata": {},
     "output_type": "execute_result"
    }
   ],
   "source": [
    "# 데이터프레임\n",
    "seoul = [-1, 0, 3, 4, 1, 3, 3, 1, 1, 3, 2, 4]\n",
    "daegu = [6, 6, 8, 8, 11, 11, 10, 8, 8, 9, 7, 10]\n",
    "region = ['seoul'] * 12 + ['daegu']*12\n",
    "data = pd.DataFrame({'region':region, 'temp' : seoul + daegu})\n",
    "\n",
    "data.head(3)"
   ]
  },
  {
   "cell_type": "code",
   "execution_count": 16,
   "id": "b70d63f3",
   "metadata": {},
   "outputs": [
    {
     "name": "stdout",
     "output_type": "stream",
     "text": [
      "ShapiroResult(statistic=0.9178412556648254, pvalue=0.2685365378856659)\n",
      "ShapiroResult(statistic=0.9212772846221924, pvalue=0.2966691553592682)\n"
     ]
    }
   ],
   "source": [
    "### 정규성 검정 : 자료의 모집단 분포는 정규분포를 따름\n",
    "\n",
    "normal_seoul = shapiro(seoul)\n",
    "normaldaegu = shapiro(daegu)\n",
    "print(normal_seoul)\n",
    "print(normaldaegu)\n",
    "\n",
    "# 결과 : p-value > 0.05, 정규성을 만족"
   ]
  },
  {
   "cell_type": "code",
   "execution_count": 17,
   "id": "f16ace30",
   "metadata": {},
   "outputs": [
    {
     "name": "stdout",
     "output_type": "stream",
     "text": [
      "LeveneResult(statistic=0.0, pvalue=1.0)\n",
      "BartlettResult(statistic=0.07093015354702552, pvalue=0.7899872613272646)\n"
     ]
    }
   ],
   "source": [
    "## 등분산성 검정 : 모든 집단의 모분산은 동일함\n",
    "\n",
    "# levene 등분산성 검정\n",
    "print(levene(seoul, daegu))\n",
    "\n",
    "# bartlett 등분산성 검정\n",
    "print(bartlett(seoul, daegu))\n",
    "\n",
    "# 결과 : p-value > 0.05, 등분산성 만족"
   ]
  },
  {
   "cell_type": "code",
   "execution_count": 19,
   "id": "b2576c7c",
   "metadata": {},
   "outputs": [
    {
     "name": "stdout",
     "output_type": "stream",
     "text": [
      "t검정 통계량 : -9.562, pvalue = 0.000000002711180\n"
     ]
    }
   ],
   "source": [
    "# 독립표본 t검정\n",
    "ttests_result = stats.ttest_ind(seoul, daegu, equal_var = True) # 등분산성 만족\n",
    "# ttest_ind(a, b, equal_var = False) # 등분산성 불만족\n",
    "\n",
    "print(\"t검정 통계량 : %.3f, pvalue = %.15f\"%(ttests_result))"
   ]
  },
  {
   "cell_type": "code",
   "execution_count": null,
   "id": "59220685",
   "metadata": {},
   "outputs": [],
   "source": []
  }
 ],
 "metadata": {
  "kernelspec": {
   "display_name": "Python 3 (ipykernel)",
   "language": "python",
   "name": "python3"
  },
  "language_info": {
   "codemirror_mode": {
    "name": "ipython",
    "version": 3
   },
   "file_extension": ".py",
   "mimetype": "text/x-python",
   "name": "python",
   "nbconvert_exporter": "python",
   "pygments_lexer": "ipython3",
   "version": "3.9.12"
  }
 },
 "nbformat": 4,
 "nbformat_minor": 5
}
